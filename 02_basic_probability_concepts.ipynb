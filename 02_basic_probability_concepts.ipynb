{
  "nbformat": 4,
  "nbformat_minor": 0,
  "metadata": {
    "colab": {
      "provenance": [],
      "authorship_tag": "ABX9TyNmklczmGOcNt9GZ2hG0jIO",
      "include_colab_link": true
    },
    "kernelspec": {
      "name": "python3",
      "display_name": "Python 3"
    },
    "language_info": {
      "name": "python"
    }
  },
  "cells": [
    {
      "cell_type": "markdown",
      "metadata": {
        "id": "view-in-github",
        "colab_type": "text"
      },
      "source": [
        "<a href=\"https://colab.research.google.com/github/davidofitaly/algebra_stats_probability_ds_notes/blob/main/02_basic_probability_concepts.ipynb\" target=\"_parent\"><img src=\"https://colab.research.google.com/assets/colab-badge.svg\" alt=\"Open In Colab\"/></a>"
      ]
    },
    {
      "cell_type": "markdown",
      "source": [
        "###*Probability*"
      ],
      "metadata": {
        "id": "rGaqZMOlh8Kt"
      }
    },
    {
      "cell_type": "markdown",
      "source": [
        "##### In probability theory, **probability** is a measure of the likelihood that an event will occur. It is a value between 0 and 1, where 0 means the event will not occur and 1 means the event will certainly occur.\n",
        "\n",
        "##### Basic Probability Formula:\n",
        "#####The probability of an event $ A $ is given by:\n",
        "\n",
        "$$\n",
        "P(A) = \\frac{\\text{Number of favorable outcomes}}{\\text{Total number of possible outcomes}}\n",
        "$$\n",
        "\n",
        "##### Key Concepts:\n",
        "- **Sample Space ($S$):** The set of all possible outcomes of an experiment.\n",
        "- **Event:** A subset of the sample space, representing a specific outcome or a set of outcomes.\n",
        "  \n",
        "##### Types of Events:\n",
        "1. **Independent Events:** Two events are independent if the occurrence of one does not affect the probability of the other.\n",
        "2. **Dependent Events:** Two events are dependent if the occurrence of one event affects the probability of the other.\n",
        "3. **Mutually Exclusive Events:** Two events are mutually exclusive if they cannot occur at the same time.\n",
        "\n",
        "##### Important Rules:\n",
        "- **Addition Rule (for mutually exclusive events):**\n",
        "  If $ A $ and $ B $ are mutually exclusive, then:\n",
        "  $$\n",
        "  P(A \\cup B) = P(A) + P(B)\n",
        "  $$\n",
        "\n",
        "- **Multiplication Rule (for independent events):**\n",
        "  If $ A $ and $ B $ are independent, then:\n",
        "  $$\n",
        "  P(A \\cap B) = P(A) \\times P(B)\n",
        "  $$\n",
        "\n",
        "##### Applications:\n",
        "- **Coin Tossing:**\n",
        "   The probability of getting heads or tails in a fair coin toss is $ \\frac{1}{2} $.\n",
        "- **Rolling Dice:**\n",
        "   The probability of rolling a 4 on a fair six-sided die is $ \\frac{1}{6} $."
      ],
      "metadata": {
        "id": "NX8um-6Nh6Pu"
      }
    },
    {
      "cell_type": "markdown",
      "source": [
        "###*Join probability*"
      ],
      "metadata": {
        "id": "hLrJL-rBlLl7"
      }
    },
    {
      "cell_type": "markdown",
      "source": [
        "#####In probability theory, **joint probability** refers to the probability of two or more events happening simultaneously. It is denoted as $ P(A \\cap B) $, representing the probability of both events $ A $ and $ B $ occurring at the same time.\n",
        "\n",
        "##### Joint Probability Formula:\n",
        "- For **independent events** $ A $ and $ B $, the joint probability is calculated as:\n",
        "\n",
        "$$\n",
        "P(A \\cap B) = P(A) \\times P(B)\n",
        "$$\n",
        "\n",
        "- For **dependent events**, where the occurrence of one event affects the probability of the other, the joint probability is given by:\n",
        "\n",
        "$$\n",
        "P(A \\cap B) = P(A) \\times P(B|A)\n",
        "$$\n",
        "\n",
        "#####Where $ P(B|A) $ is the **conditional probability** of event $ B $ occurring given that event $ A $ has occurred.\n",
        "\n",
        "##### Key Concepts:\n",
        "- **Independent Events:** Events $ A $ and $ B $ are independent if the occurrence of $ A $ does not affect the occurrence of $ B $, and vice versa.\n",
        "- **Dependent Events:** Events $ A $ and $ B $ are dependent if the occurrence of $ A $ influences the occurrence of $ B $.\n",
        "- **Conditional Probability:** The probability of event $ B $ occurring given event $ A $ has already happened, denoted as $ P(B|A) $.\n",
        "\n",
        "##### Examples:\n",
        "- **Independent Events:**\n",
        "   If you flip a coin and roll a die, the probability of getting heads and rolling a 4 is:\n",
        "\n",
        "   $$\n",
        "   P(\\text{heads on coin} \\cap \\text{4 on die}) = P(\\text{heads on coin}) \\times P(\\text{4 on die}) = \\frac{1}{2} \\times \\frac{1}{6} = \\frac{1}{12}.\n",
        "   $$\n",
        "\n",
        "- **Dependent Events:**\n",
        "   In a deck of cards, if you draw a card and then draw another without replacement, the probability of drawing a red card first and another red card second is:\n",
        "\n",
        "   $$\n",
        "   P(\\text{red on 1st draw} \\cap \\text{red on 2nd draw}) = P(\\text{red on 1st draw}) \\times P(\\text{red on 2nd draw | red on 1st draw}).\n",
        "   $$"
      ],
      "metadata": {
        "id": "cqyto1egkzUC"
      }
    },
    {
      "cell_type": "markdown",
      "source": [
        "###*Alternative Probability*"
      ],
      "metadata": {
        "id": "m3v8awJjoZrd"
      }
    },
    {
      "cell_type": "markdown",
      "source": [
        "#####Alternative probability refers to a situation where two or more events are considered, and one or the other must occur. It is the probability that one of two (or more) events will happen.\n",
        "\n",
        "##### Formula:\n",
        "If $A$ and $B$ are two events, the alternative probability (the probability that either event $A$ or event $B$ will occur) is given by:\n",
        "\n",
        "$$\n",
        "P(A \\cup B) = P(A) + P(B) - P(A \\cap B)\n",
        "$$\n",
        "\n",
        "#####Where:\n",
        "- $P(A \\cup B)$ is the probability that event $A$ **or** event $B$ will occur,\n",
        "- $P(A)$ is the probability of event $A$,\n",
        "- $P(B)$ is the probability of event $B$,\n",
        "- $P(A \\cap B)$ is the probability that both events $A$ and $B$ occur simultaneously (their intersection).\n",
        "\n",
        "##### Example:\n",
        "If $A$ is the event \"flipping a head\" on a coin (with probability $P(A) = \\frac{1}{2}$), and $B$ is the event \"rolling a 4 on a die\" (with probability $P(B) = \\frac{1}{6}$), the probability that we will get a head **or** a 4 on the die is:\n",
        "\n",
        "$$\n",
        "P(A \\cup B) = P(A) + P(B) - P(A \\cap B)\n",
        "$$\n",
        "\n",
        "Assuming that flipping a coin and rolling a die are independent events, we have:\n",
        "\n",
        "$$\n",
        "P(A \\cap B) = P(A) \\times P(B) = \\frac{1}{2} \\times \\frac{1}{6} = \\frac{1}{12}\n",
        "$$\n",
        "\n",
        "So:\n",
        "\n",
        "$$\n",
        "P(A \\cup B) = \\frac{1}{2} + \\frac{1}{6} - \\frac{1}{12} = \\frac{2}{3}\n",
        "$$\n"
      ],
      "metadata": {
        "id": "hj5n4VINob7D"
      }
    },
    {
      "cell_type": "markdown",
      "source": [
        "###*Bayes' Theorem*"
      ],
      "metadata": {
        "id": "SYHDRPIksbl4"
      }
    },
    {
      "cell_type": "markdown",
      "source": [
        "#####Bayes' Theorem is a fundamental concept in probability theory that describes the probability of an event, based on prior knowledge of conditions that might be related to the event. It allows for the updating of probabilities when new evidence is available.\n",
        "\n",
        "##### Formula:\n",
        "Bayes' Theorem is given by the formula:\n",
        "\n",
        "$$\n",
        "P(A|B) = \\frac{P(B|A) \\times P(A)}{P(B)}\n",
        "$$\n",
        "\n",
        "Where:\n",
        "- $P(A|B)$ is the **posterior probability**, the probability of event $A$ given event $B$ has occurred,\n",
        "- $P(B|A)$ is the **likelihood**, the probability of event $B$ given event $A$,\n",
        "- $P(A)$ is the **prior probability** of event $A$,\n",
        "- $P(B)$ is the **marginal likelihood** or the total probability of event $B$.\n",
        "\n",
        "##### Example:\n",
        "Suppose:\n",
        "- $P(A) = 0.1$ (prior probability of event $A$),\n",
        "- $P(B|A) = 0.8$ (probability of $B$ given $A$),\n",
        "- $P(B) = 0.5$ (total probability of $B$).\n",
        "\n",
        "Using Bayes' Theorem, the posterior probability $P(A|B)$ is:\n",
        "\n",
        "$$\n",
        "P(A|B) = \\frac{P(B|A) \\times P(A)}{P(B)} = \\frac{0.8 \\times 0.1}{0.5} = 0.16\n",
        "$$\n"
      ],
      "metadata": {
        "id": "mZp0s919sgSF"
      }
    },
    {
      "cell_type": "code",
      "execution_count": 1,
      "metadata": {
        "id": "mBgkdv5GfKZ2"
      },
      "outputs": [],
      "source": []
    }
  ]
}