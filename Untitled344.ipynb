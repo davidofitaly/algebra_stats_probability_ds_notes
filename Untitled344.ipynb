{
  "nbformat": 4,
  "nbformat_minor": 0,
  "metadata": {
    "colab": {
      "provenance": [],
      "authorship_tag": "ABX9TyMnhvEH/4Xip2jUD3WbNUzr",
      "include_colab_link": true
    },
    "kernelspec": {
      "name": "python3",
      "display_name": "Python 3"
    },
    "language_info": {
      "name": "python"
    }
  },
  "cells": [
    {
      "cell_type": "markdown",
      "metadata": {
        "id": "view-in-github",
        "colab_type": "text"
      },
      "source": [
        "<a href=\"https://colab.research.google.com/github/davidofitaly/algebra_stats_probability_ds_notes/blob/main/Untitled344.ipynb\" target=\"_parent\"><img src=\"https://colab.research.google.com/assets/colab-badge.svg\" alt=\"Open In Colab\"/></a>"
      ]
    },
    {
      "cell_type": "code",
      "source": [
        "import pandas as pd\n",
        "import matplotlib.pyplot as plt\n",
        "from sklearn.linear_model import LinearRegression\n",
        "import seaborn as sns\n",
        "import numpy as np\n",
        "from numpy.linalg import inv\n",
        "\n",
        "\n",
        "sns.set(font_scale=1.3)"
      ],
      "metadata": {
        "id": "V7YPlMwNI3oS"
      },
      "execution_count": 26,
      "outputs": []
    },
    {
      "cell_type": "markdown",
      "source": [
        "##### Linear Regression\n",
        "\n",
        "#####Linear regression is a statistical method used to model the relationship between a dependent variable ($y$) and one or more independent variables ($x$). The goal is to find a straight line that best fits the data points.\n",
        "\n",
        "#####The general form of a linear regression model is:\n",
        "\n",
        "$$\n",
        "y = mx + b\n",
        "$$\n",
        "\n",
        "#####Where:\n",
        "- $y$: Dependent variable (output),\n",
        "- $x$: Independent variable (input),\n",
        "- $m$: Slope of the line,\n",
        "- $b$: Intercept (where the line crosses the y-axis).\n",
        "\n",
        "#####**Applications:**\n",
        "- Predicting trends (e.g., sales, temperatures),\n",
        "- Understanding relationships between variables,\n",
        "- Identifying correlations in data.\n"
      ],
      "metadata": {
        "id": "3iywHuNDIvox"
      }
    },
    {
      "cell_type": "code",
      "execution_count": 2,
      "metadata": {
        "colab": {
          "base_uri": "https://localhost:8080/",
          "height": 473
        },
        "id": "QWKjxfc0Isck",
        "outputId": "86226c4d-8f60-4dc2-d761-d0f97b80ffa5"
      },
      "outputs": [
        {
          "output_type": "stream",
          "name": "stdout",
          "text": [
            "m = [1.93939394]\n",
            "b = 4.7333333333333325\n"
          ]
        },
        {
          "output_type": "display_data",
          "data": {
            "text/plain": [
              "<Figure size 640x480 with 1 Axes>"
            ],
            "image/png": "[encoded data removed]"
          },
          "metadata": {}
        }
      ],
      "source": [
        "df = pd.read_csv('https://bit.ly/3goOAnt', delimiter=\",\")\n",
        "\n",
        "\n",
        "X = df.values[:,:-1]\n",
        "Y = df.values[:,-1]\n",
        "\n",
        "fitting = LinearRegression().fit(X,Y)\n",
        "\n",
        "m = fitting.coef_\n",
        "b = fitting.intercept_\n",
        "\n",
        "print(f\"m = {m}\")\n",
        "print(f\"b = {b}\")\n",
        "\n",
        "plt.plot(X, Y, 'o')\n",
        "plt.plot(X, m*X + b)\n",
        "plt.show()"
      ]
    },
    {
      "cell_type": "markdown",
      "source": [
        "###*Residuals and Squared Errors*"
      ],
      "metadata": {
        "id": "vtozt7uWuD0l"
      }
    },
    {
      "cell_type": "markdown",
      "source": [
        "\n",
        "\n",
        "#####Residuals and squared errors are critical concepts in regression analysis, used to evaluate the performance of a model and understand how well it fits the data.\n",
        "\n",
        "#####**Residuals**\n",
        "- A residual is the difference between the observed value ($y_i$) and the predicted value ($\\hat{y}_i$) from the model:\n",
        "  $$\n",
        "  \\text{Residual}_i = y_i - \\hat{y}_i\n",
        "  $$\n",
        "- Residuals represent the error or deviation of the predictions from the actual data points.\n",
        "\n",
        "#####**Squared Errors**\n",
        "- Squared errors are the square of residuals, used to penalize larger deviations and simplify further calculations:\n",
        "  $$\n",
        "  \\text{Squared Error}_i = (y_i - \\hat{y}_i)^2\n",
        "  $$\n",
        "\n",
        "\n",
        "\n",
        "#####**Key Insight**\n",
        "Minimizing the sum of squared errors (SSE) is a common approach in regression analysis to ensure the model best fits the given data:\n",
        "$$\n",
        "\\text{SSE} = \\sum_{i=1}^n (y_i - \\hat{y}_i)^2\n",
        "$$\n"
      ],
      "metadata": {
        "id": "-IBBmdPquB43"
      }
    },
    {
      "cell_type": "code",
      "source": [
        "df = pd.read_csv('https://bit.ly/3goOAnt', delimiter=\",\")\n",
        "\n",
        "\n",
        "X = df.values[:,:-1]\n",
        "Y = df.values[:,-1]\n",
        "\n",
        "fitting = LinearRegression().fit(X,Y)\n",
        "\n",
        "m = fitting.coef_[0]\n",
        "b = fitting.intercept_\n",
        "\n",
        "print('Residuals:\\n')\n",
        "for p in df.itertuples():\n",
        "    y_real = p.y\n",
        "    y_predict = m*p.x + b\n",
        "    residual = y_real - y_predict\n",
        "    print(f\"{residual:.4f}\")\n",
        "\n",
        "\n",
        "total_squared_errors = 0\n",
        "\n",
        "print('\\nSquared errors:\\n')\n",
        "for p in df.itertuples():\n",
        "    y_real = p.y\n",
        "    y_predict = m * p.x + b\n",
        "    squared_error = (y_real - y_predict) ** 2\n",
        "    total_squared_errors += squared_error\n",
        "    print(f\"{squared_error:.4f}\")\n",
        "print(f\"\\nTotal SSE so far: {total_squared_errors:.4f}\")"
      ],
      "metadata": {
        "colab": {
          "base_uri": "https://localhost:8080/"
        },
        "id": "uijgUD7HvW_g",
        "outputId": "61114f82-9000-455d-b35b-e94ac27f73c4"
      },
      "execution_count": 8,
      "outputs": [
        {
          "output_type": "stream",
          "name": "stdout",
          "text": [
            "Residuals:\n",
            "\n",
            "-1.6727\n",
            "1.3879\n",
            "-0.5515\n",
            "2.5091\n",
            "-0.4303\n",
            "-1.3697\n",
            "0.6909\n",
            "-2.2485\n",
            "2.8121\n",
            "-1.1273\n",
            "\n",
            "Squared errors:\n",
            "\n",
            "2.7980\n",
            "1.9262\n",
            "0.3042\n",
            "6.2955\n",
            "0.1852\n",
            "1.8761\n",
            "0.4774\n",
            "5.0557\n",
            "7.9080\n",
            "1.2707\n",
            "\n",
            "Total SSE so far: 28.0970\n"
          ]
        }
      ]
    },
    {
      "cell_type": "markdown",
      "source": [
        "###*Closed-Form Equation*"
      ],
      "metadata": {
        "id": "otAwGbGfzj0i"
      }
    },
    {
      "cell_type": "markdown",
      "source": [
        "#####A closed-form equation is a way of expressing the solution to a mathematical problem as a single, explicit formula, without the need for iterative methods.\n",
        "\n",
        "#####**Formula:**\n",
        "In the case of linear regression, the closed-form equation is used to compute the model parameters ($m$ and $b$):\n",
        "\n",
        "$$\n",
        "m = \\frac{n \\sum{xy} - \\sum{x} \\sum{y}}{n \\sum{x^2} - (\\sum{x})^2}\n",
        "$$\n",
        "\n",
        "$$\n",
        "b = \\frac{\\sum{y} - m \\sum{x}}{n}\n",
        "$$\n",
        "\n",
        "#####**How to Calculate:**\n",
        "1. Compute the necessary sums: $\\sum{x}$, $\\sum{y}$, $\\sum{xy}$, $\\sum{x^2}$.\n",
        "2. Plug the values into the formulas to calculate the slope ($m$) and intercept ($b$).\n",
        "3. Use these values to form the regression equation:\n",
        "   $$ y = mx + b $$\n",
        "\n"
      ],
      "metadata": {
        "id": "T4N7zUqnzhVN"
      }
    },
    {
      "cell_type": "code",
      "source": [
        "df = pd.read_csv('https://bit.ly/3goOAnt', delimiter=\",\")\n",
        "\n",
        "points = list(df.itertuples())\n",
        "\n",
        "n = len(df)\n",
        "\n",
        "m = (n*sum(p.x*p.y for p in points) - sum(p.x for p in points) * sum(p.y for p in points)) / (n*sum(p.x**2 for p in points) - sum(p.x for p in points)**2)\n",
        "b = (sum(p.y for p in points) - m*sum(p.x for p in points)) / n\n",
        "\n",
        "print(f'Slope: {m:.4f}')\n",
        "print(f\"Intercept: {b:.4f}\")"
      ],
      "metadata": {
        "colab": {
          "base_uri": "https://localhost:8080/"
        },
        "id": "0s9NtVt71Gsa",
        "outputId": "bdc89408-5cec-4dc8-c211-f4eed47ec23a"
      },
      "execution_count": 24,
      "outputs": [
        {
          "output_type": "stream",
          "name": "stdout",
          "text": [
            "Slope: 1.9394\n",
            "Intercept: 4.7333\n"
          ]
        }
      ]
    },
    {
      "cell_type": "markdown",
      "source": [
        "###*Inverse Matrices in the Context of Calculating Coefficients m and b in Linear Regression*"
      ],
      "metadata": {
        "id": "nxt2leIU5WTa"
      }
    },
    {
      "cell_type": "markdown",
      "source": [
        "#####In linear regression, the model coefficients (slope $m$ and intercept $b$) can be computed using inverse matrices, which is part of the solution to a system of linear equations. This matrix-based approach to the least squares method allows for a more organized and efficient way to obtain the results.\n",
        "\n",
        "#####**Matrix Formula:**\n",
        "\n",
        "To find the coefficients $m$ and $b$ in linear regression, we use the following formula:\n",
        "\n",
        "$$\n",
        "\\boldsymbol{\\beta} = (X^T X)^{-1} X^T y\n",
        "$$\n",
        "\n",
        "Where:\n",
        "- $\\boldsymbol{\\beta} = \\begin{pmatrix} b \\\\ m \\end{pmatrix}$ is the vector of regression coefficients,\n",
        "- $X$ is the design matrix (matrix of independent variables),\n",
        "- $y$ is the vector of dependent values (observations),\n",
        "- $X^T$ is the transpose of matrix $X$,\n",
        "- $(X^T X)^{-1}$ is the inverse of matrix $X^T X$.\n",
        "\n",
        "#####**How It Works:**\n",
        "1. **Matrix $X$:** The design matrix $X$ contains the input data, where each column represents one independent variable (e.g., $x$), and each row is a data point.\n",
        "   For linear regression with one predictor $x$, the matrix $X$ looks like this:\n",
        "   $$ X = \\begin{pmatrix} 1 & x_1 \\\\ 1 & x_2 \\\\ \\vdots & \\vdots \\\\ 1 & x_n \\end{pmatrix} $$\n",
        "\n",
        "2. **Matrix $y$:** This is the vector of dependent values (the observations), denoted as:\n",
        "   $$ y = \\begin{pmatrix} y_1 \\\\ y_2 \\\\ \\vdots \\\\ y_n \\end{pmatrix} $$\n",
        "\n",
        "3. **Calculating Coefficients:** To calculate the coefficients $m$ and $b$, we first compute the inverse of the matrix $X^T X$, and then multiply it by $X^T$ and $y$. The result is a vector of coefficients $\\boldsymbol{\\beta}$, where:\n",
        "   $$ b = \\beta_0, \\quad m = \\beta_1 $$\n"
      ],
      "metadata": {
        "id": "4wthU3mb5MJo"
      }
    },
    {
      "cell_type": "code",
      "source": [
        "df = pd.read_csv('https://bit.ly/3goOAnt', delimiter=\",\")\n",
        "\n",
        "\n",
        "X = df.values[:,:-1].flatten()\n",
        "Y = df.values[:, -1]\n",
        "\n",
        "X_1 = np.vstack([X, np.ones(len(X))]).T\n",
        "\n",
        "\n",
        "b = inv(X_1.transpose() @ X_1) @ (X_1.transpose() @ Y)\n",
        "\n",
        "print(b)\n",
        "\n"
      ],
      "metadata": {
        "colab": {
          "base_uri": "https://localhost:8080/"
        },
        "id": "wbAsIhjI5yGK",
        "outputId": "7eb5c6b4-f178-44c6-c2ea-c2b69e7ba645"
      },
      "execution_count": 34,
      "outputs": [
        {
          "output_type": "stream",
          "name": "stdout",
          "text": [
            "[1.93939394 4.73333333]\n"
          ]
        }
      ]
    },
    {
      "cell_type": "markdown",
      "source": [
        "###*Gradient Descent (GD)*"
      ],
      "metadata": {
        "id": "3amBP4Ks-xVd"
      }
    },
    {
      "cell_type": "markdown",
      "source": [
        "##### Gradient Descent (GD)\n",
        "\n",
        "Gradient Descent (GD) is an optimization method used to minimize the cost function by iteratively updating the model parameters (e.g., coefficients in linear regression) in the direction opposite to the gradient of the cost function.\n",
        "\n",
        "##### Formula:\n",
        "$$\n",
        "\\theta = \\theta - \\alpha \\cdot \\nabla J(\\theta)\n",
        "$$\n",
        "\n",
        "Where:\n",
        "- $\\theta$: vector of parameters,\n",
        "- $\\alpha$: learning rate,\n",
        "- $\\nabla J(\\theta)$: gradient of the cost function.\n",
        "\n",
        "##### How it works:\n",
        "1. Compute the gradient of the cost function with respect to the parameters.\n",
        "2. Update the parameters in the opposite direction of the gradient.\n",
        "3. Repeat until convergence.\n",
        "\n",
        "##### Gradients for Linear Regression:\n",
        "For linear regression, the cost function is the sum of squared errors (SSE). The gradients for the parameters `m` (slope) and `b` (intercept) are:\n",
        "\n",
        "1. **Gradient for m (D_m)**:\n",
        "   $$\n",
        "   D_m = \\sum_{i=1}^{n} 2 x_i \\left( (m x_i + b) - y_i \\right)\n",
        "   $$  \n",
        "   This is the derivative of the cost function with respect to the slope `m`. It tells how much `m` should be adjusted to minimize the error.\n",
        "\n",
        "2. **Gradient for b (D_b)**:\n",
        "   $$\n",
        "   D_b = \\sum_{i=1}^{n} 2 \\left( (m x_i + b) - y_i \\right)\n",
        "   $$  \n",
        "   This is the derivative of the cost function with respect to the intercept `b`. It tells how much `b` should be adjusted to minimize the error.\n",
        "\n",
        "##### Applications:\n",
        "- Used in linear regression, neural networks, and other ML algorithms.\n",
        "\n"
      ],
      "metadata": {
        "id": "7VevxmxP-vAU"
      }
    },
    {
      "cell_type": "code",
      "source": [
        "df = pd.read_csv('https://bit.ly/3goOAnt', delimiter=\",\")\n",
        "\n",
        "points = list(df.itertuples())\n",
        "\n",
        "m = 0.0\n",
        "b = 0.0\n",
        "\n",
        "L = 0.001\n",
        "\n",
        "iterations = 100_000\n",
        "\n",
        "n = float(len(points))\n",
        "\n",
        "for i in range(iterations):\n",
        "    D_m = sum(2 * p.x * ((m * p.x + b) - p.y) for p in points)\n",
        "\n",
        "    D_b = sum(2 * ((m * p.x + b) - p.y) for p in points)\n",
        "\n",
        "    m -= L * D_m\n",
        "    b -= L * D_b\n",
        "\n",
        "print(f\"y = {m} + {b}\")\n"
      ],
      "metadata": {
        "colab": {
          "base_uri": "https://localhost:8080/"
        },
        "id": "MibSvb0t-OBJ",
        "outputId": "dcd133ff-fd14-429c-cab6-05bde096ed7f"
      },
      "execution_count": 38,
      "outputs": [
        {
          "output_type": "stream",
          "name": "stdout",
          "text": [
            "y = 1.9393939393939548 + 4.733333333333227\n"
          ]
        }
      ]
    }
  ]
}