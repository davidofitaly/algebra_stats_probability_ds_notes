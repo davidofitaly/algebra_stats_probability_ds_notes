{
  "nbformat": 4,
  "nbformat_minor": 0,
  "metadata": {
    "colab": {
      "provenance": [],
      "authorship_tag": "ABX9TyMz7TT4b3hV98/qvKle5l7k",
      "include_colab_link": true
    },
    "kernelspec": {
      "name": "python3",
      "display_name": "Python 3"
    },
    "language_info": {
      "name": "python"
    }
  },
  "cells": [
    {
      "cell_type": "markdown",
      "metadata": {
        "id": "view-in-github",
        "colab_type": "text"
      },
      "source": [
        "<a href=\"https://colab.research.google.com/github/davidofitaly/algebra_stats_probability_ds_notes/blob/main/Untitled344.ipynb\" target=\"_parent\"><img src=\"https://colab.research.google.com/assets/colab-badge.svg\" alt=\"Open In Colab\"/></a>"
      ]
    },
    {
      "cell_type": "code",
      "source": [
        "import pandas as pd\n",
        "import matplotlib.pyplot as plt\n",
        "from sklearn.linear_model import LinearRegression\n",
        "import seaborn as sns\n",
        "import numpy as np\n",
        "from numpy.linalg import inv\n",
        "import scipy.stats as stats\n",
        "import statsmodels.api as sm\n",
        "\n",
        "sns.set(font_scale=1.3)"
      ],
      "metadata": {
        "id": "V7YPlMwNI3oS"
      },
      "execution_count": 50,
      "outputs": []
    },
    {
      "cell_type": "markdown",
      "source": [
        "##### Linear Regression\n",
        "\n",
        "#####Linear regression is a statistical method used to model the relationship between a dependent variable ($y$) and one or more independent variables ($x$). The goal is to find a straight line that best fits the data points.\n",
        "\n",
        "#####The general form of a linear regression model is:\n",
        "\n",
        "$$\n",
        "y = mx + b\n",
        "$$\n",
        "\n",
        "#####Where:\n",
        "- $y$: Dependent variable (output),\n",
        "- $x$: Independent variable (input),\n",
        "- $m$: Slope of the line,\n",
        "- $b$: Intercept (where the line crosses the y-axis).\n",
        "\n",
        "#####**Applications:**\n",
        "- Predicting trends (e.g., sales, temperatures),\n",
        "- Understanding relationships between variables,\n",
        "- Identifying correlations in data.\n"
      ],
      "metadata": {
        "id": "3iywHuNDIvox"
      }
    },
    {
      "cell_type": "code",
      "execution_count": 2,
      "metadata": {
        "colab": {
          "base_uri": "https://localhost:8080/",
          "height": 473
        },
        "id": "QWKjxfc0Isck",
        "outputId": "e53212cf-92ea-45b8-ba21-49b26e06f815"
      },
      "outputs": [
        {
          "output_type": "stream",
          "name": "stdout",
          "text": [
            "m = [1.93939394]\n",
            "b = 4.7333333333333325\n"
          ]
        },
        {
          "output_type": "display_data",
          "data": {
            "text/plain": [
              "<Figure size 640x480 with 1 Axes>"
            ],
            "image/png": "[encoded data removed]"
          },
          "metadata": {}
        }
      ],
      "source": [
        "df = pd.read_csv('https://bit.ly/3goOAnt', delimiter=\",\")\n",
        "\n",
        "\n",
        "X = df.values[:,:-1]\n",
        "Y = df.values[:,-1]\n",
        "\n",
        "fitting = LinearRegression().fit(X,Y)\n",
        "\n",
        "m = fitting.coef_\n",
        "b = fitting.intercept_\n",
        "\n",
        "print(f\"m = {m}\")\n",
        "print(f\"b = {b}\")\n",
        "\n",
        "plt.plot(X, Y, 'o')\n",
        "plt.plot(X, m*X + b)\n",
        "plt.show()"
      ]
    },
    {
      "cell_type": "markdown",
      "source": [
        "###*Residuals and Squared Errors*"
      ],
      "metadata": {
        "id": "vtozt7uWuD0l"
      }
    },
    {
      "cell_type": "markdown",
      "source": [
        "\n",
        "\n",
        "#####Residuals and squared errors are critical concepts in regression analysis, used to evaluate the performance of a model and understand how well it fits the data.\n",
        "\n",
        "#####**Residuals**\n",
        "- A residual is the difference between the observed value ($y_i$) and the predicted value ($\\hat{y}_i$) from the model:\n",
        "  $$\n",
        "  \\text{Residual}_i = y_i - \\hat{y}_i\n",
        "  $$\n",
        "- Residuals represent the error or deviation of the predictions from the actual data points.\n",
        "\n",
        "#####**Squared Errors**\n",
        "- Squared errors are the square of residuals, used to penalize larger deviations and simplify further calculations:\n",
        "  $$\n",
        "  \\text{Squared Error}_i = (y_i - \\hat{y}_i)^2\n",
        "  $$\n",
        "\n",
        "\n",
        "\n",
        "#####**Key Insight**\n",
        "Minimizing the sum of squared errors (SSE) is a common approach in regression analysis to ensure the model best fits the given data:\n",
        "$$\n",
        "\\text{SSE} = \\sum_{i=1}^n (y_i - \\hat{y}_i)^2\n",
        "$$\n"
      ],
      "metadata": {
        "id": "-IBBmdPquB43"
      }
    },
    {
      "cell_type": "code",
      "source": [
        "df = pd.read_csv('https://bit.ly/3goOAnt', delimiter=\",\")\n",
        "\n",
        "\n",
        "X = df.values[:,:-1]\n",
        "Y = df.values[:,-1]\n",
        "\n",
        "fitting = LinearRegression().fit(X,Y)\n",
        "\n",
        "m = fitting.coef_[0]\n",
        "b = fitting.intercept_\n",
        "\n",
        "print('Residuals:\\n')\n",
        "for p in df.itertuples():\n",
        "    y_real = p.y\n",
        "    y_predict = m*p.x + b\n",
        "    residual = y_real - y_predict\n",
        "    print(f\"{residual:.4f}\")\n",
        "\n",
        "\n",
        "total_squared_errors = 0\n",
        "\n",
        "print('\\nSquared errors:\\n')\n",
        "for p in df.itertuples():\n",
        "    y_real = p.y\n",
        "    y_predict = m * p.x + b\n",
        "    squared_error = (y_real - y_predict) ** 2\n",
        "    total_squared_errors += squared_error\n",
        "    print(f\"{squared_error:.4f}\")\n",
        "print(f\"\\nTotal SSE so far: {total_squared_errors:.4f}\")"
      ],
      "metadata": {
        "colab": {
          "base_uri": "https://localhost:8080/"
        },
        "id": "uijgUD7HvW_g",
        "outputId": "b0473ee7-027c-481a-8433-3166058e2346"
      },
      "execution_count": 3,
      "outputs": [
        {
          "output_type": "stream",
          "name": "stdout",
          "text": [
            "Residuals:\n",
            "\n",
            "-1.6727\n",
            "1.3879\n",
            "-0.5515\n",
            "2.5091\n",
            "-0.4303\n",
            "-1.3697\n",
            "0.6909\n",
            "-2.2485\n",
            "2.8121\n",
            "-1.1273\n",
            "\n",
            "Squared errors:\n",
            "\n",
            "2.7980\n",
            "1.9262\n",
            "0.3042\n",
            "6.2955\n",
            "0.1852\n",
            "1.8761\n",
            "0.4774\n",
            "5.0557\n",
            "7.9080\n",
            "1.2707\n",
            "\n",
            "Total SSE so far: 28.0970\n"
          ]
        }
      ]
    },
    {
      "cell_type": "markdown",
      "source": [
        "###*Closed-Form Equation*"
      ],
      "metadata": {
        "id": "otAwGbGfzj0i"
      }
    },
    {
      "cell_type": "markdown",
      "source": [
        "#####A closed-form equation is a way of expressing the solution to a mathematical problem as a single, explicit formula, without the need for iterative methods.\n",
        "\n",
        "#####**Formula:**\n",
        "In the case of linear regression, the closed-form equation is used to compute the model parameters ($m$ and $b$):\n",
        "\n",
        "$$\n",
        "m = \\frac{n \\sum{xy} - \\sum{x} \\sum{y}}{n \\sum{x^2} - (\\sum{x})^2}\n",
        "$$\n",
        "\n",
        "$$\n",
        "b = \\frac{\\sum{y} - m \\sum{x}}{n}\n",
        "$$\n",
        "\n",
        "#####**How to Calculate:**\n",
        "1. Compute the necessary sums: $\\sum{x}$, $\\sum{y}$, $\\sum{xy}$, $\\sum{x^2}$.\n",
        "2. Plug the values into the formulas to calculate the slope ($m$) and intercept ($b$).\n",
        "3. Use these values to form the regression equation:\n",
        "   $$ y = mx + b $$\n",
        "\n"
      ],
      "metadata": {
        "id": "T4N7zUqnzhVN"
      }
    },
    {
      "cell_type": "code",
      "source": [
        "df = pd.read_csv('https://bit.ly/3goOAnt', delimiter=\",\")\n",
        "\n",
        "points = list(df.itertuples())\n",
        "\n",
        "n = len(df)\n",
        "\n",
        "m = (n*sum(p.x*p.y for p in points) - sum(p.x for p in points) * sum(p.y for p in points)) / (n*sum(p.x**2 for p in points) - sum(p.x for p in points)**2)\n",
        "b = (sum(p.y for p in points) - m*sum(p.x for p in points)) / n\n",
        "\n",
        "print(f'Slope: {m:.4f}')\n",
        "print(f\"Intercept: {b:.4f}\")"
      ],
      "metadata": {
        "colab": {
          "base_uri": "https://localhost:8080/"
        },
        "id": "0s9NtVt71Gsa",
        "outputId": "ef5f2aa1-c980-4d8d-deff-589886fe3a16"
      },
      "execution_count": 4,
      "outputs": [
        {
          "output_type": "stream",
          "name": "stdout",
          "text": [
            "Slope: 1.9394\n",
            "Intercept: 4.7333\n"
          ]
        }
      ]
    },
    {
      "cell_type": "markdown",
      "source": [
        "###*Inverse Matrices in the Context of Calculating Coefficients m and b in Linear Regression*"
      ],
      "metadata": {
        "id": "nxt2leIU5WTa"
      }
    },
    {
      "cell_type": "markdown",
      "source": [
        "#####In linear regression, the model coefficients (slope $m$ and intercept $b$) can be computed using inverse matrices, which is part of the solution to a system of linear equations. This matrix-based approach to the least squares method allows for a more organized and efficient way to obtain the results.\n",
        "\n",
        "#####**Matrix Formula:**\n",
        "\n",
        "To find the coefficients $m$ and $b$ in linear regression, we use the following formula:\n",
        "\n",
        "$$\n",
        "\\boldsymbol{\\beta} = (X^T X)^{-1} X^T y\n",
        "$$\n",
        "\n",
        "Where:\n",
        "- $\\boldsymbol{\\beta} = \\begin{pmatrix} b \\\\ m \\end{pmatrix}$ is the vector of regression coefficients,\n",
        "- $X$ is the design matrix (matrix of independent variables),\n",
        "- $y$ is the vector of dependent values (observations),\n",
        "- $X^T$ is the transpose of matrix $X$,\n",
        "- $(X^T X)^{-1}$ is the inverse of matrix $X^T X$.\n",
        "\n",
        "#####**How It Works:**\n",
        "1. **Matrix $X$:** The design matrix $X$ contains the input data, where each column represents one independent variable (e.g., $x$), and each row is a data point.\n",
        "   For linear regression with one predictor $x$, the matrix $X$ looks like this:\n",
        "   $$ X = \\begin{pmatrix} 1 & x_1 \\\\ 1 & x_2 \\\\ \\vdots & \\vdots \\\\ 1 & x_n \\end{pmatrix} $$\n",
        "\n",
        "2. **Matrix $y$:** This is the vector of dependent values (the observations), denoted as:\n",
        "   $$ y = \\begin{pmatrix} y_1 \\\\ y_2 \\\\ \\vdots \\\\ y_n \\end{pmatrix} $$\n",
        "\n",
        "3. **Calculating Coefficients:** To calculate the coefficients $m$ and $b$, we first compute the inverse of the matrix $X^T X$, and then multiply it by $X^T$ and $y$. The result is a vector of coefficients $\\boldsymbol{\\beta}$, where:\n",
        "   $$ b = \\beta_0, \\quad m = \\beta_1 $$\n"
      ],
      "metadata": {
        "id": "4wthU3mb5MJo"
      }
    },
    {
      "cell_type": "code",
      "source": [
        "df = pd.read_csv('https://bit.ly/3goOAnt', delimiter=\",\")\n",
        "\n",
        "\n",
        "X = df.values[:,:-1].flatten()\n",
        "Y = df.values[:, -1]\n",
        "\n",
        "X_1 = np.vstack([X, np.ones(len(X))]).T\n",
        "\n",
        "\n",
        "b = inv(X_1.transpose() @ X_1) @ (X_1.transpose() @ Y)\n",
        "\n",
        "print(b)\n",
        "\n"
      ],
      "metadata": {
        "colab": {
          "base_uri": "https://localhost:8080/"
        },
        "id": "wbAsIhjI5yGK",
        "outputId": "83980825-e461-4476-f275-effac3107dd1"
      },
      "execution_count": 5,
      "outputs": [
        {
          "output_type": "stream",
          "name": "stdout",
          "text": [
            "[1.93939394 4.73333333]\n"
          ]
        }
      ]
    },
    {
      "cell_type": "markdown",
      "source": [
        "###*Gradient Descent (GD)*"
      ],
      "metadata": {
        "id": "3amBP4Ks-xVd"
      }
    },
    {
      "cell_type": "markdown",
      "source": [
        "##### Gradient Descent (GD)\n",
        "\n",
        "Gradient Descent (GD) is an optimization method used to minimize the cost function by iteratively updating the model parameters (e.g., coefficients in linear regression) in the direction opposite to the gradient of the cost function.\n",
        "\n",
        "##### Formula:\n",
        "$$\n",
        "\\theta = \\theta - \\alpha \\cdot \\nabla J(\\theta)\n",
        "$$\n",
        "\n",
        "Where:\n",
        "- $\\theta$: vector of parameters,\n",
        "- $\\alpha$: learning rate,\n",
        "- $\\nabla J(\\theta)$: gradient of the cost function.\n",
        "\n",
        "##### How it works:\n",
        "1. Compute the gradient of the cost function with respect to the parameters.\n",
        "2. Update the parameters in the opposite direction of the gradient.\n",
        "3. Repeat until convergence.\n",
        "\n",
        "##### Gradients for Linear Regression:\n",
        "For linear regression, the cost function is the sum of squared errors (SSE). The gradients for the parameters `m` (slope) and `b` (intercept) are:\n",
        "\n",
        "1. **Gradient for m (D_m)**:\n",
        "   $$\n",
        "   D_m = \\sum_{i=1}^{n} 2 x_i \\left( (m x_i + b) - y_i \\right)\n",
        "   $$  \n",
        "   This is the derivative of the cost function with respect to the slope `m`. It tells how much `m` should be adjusted to minimize the error.\n",
        "\n",
        "2. **Gradient for b (D_b)**:\n",
        "   $$\n",
        "   D_b = \\sum_{i=1}^{n} 2 \\left( (m x_i + b) - y_i \\right)\n",
        "   $$  \n",
        "   This is the derivative of the cost function with respect to the intercept `b`. It tells how much `b` should be adjusted to minimize the error.\n",
        "\n",
        "##### Applications:\n",
        "- Used in linear regression, neural networks, and other ML algorithms.\n",
        "\n"
      ],
      "metadata": {
        "id": "7VevxmxP-vAU"
      }
    },
    {
      "cell_type": "code",
      "source": [
        "df = pd.read_csv('https://bit.ly/3goOAnt', delimiter=\",\")\n",
        "\n",
        "points = list(df.itertuples())\n",
        "\n",
        "m = 0.0\n",
        "b = 0.0\n",
        "\n",
        "L = 0.001\n",
        "\n",
        "iterations = 100_000\n",
        "\n",
        "n = float(len(points))\n",
        "\n",
        "for i in range(iterations):\n",
        "    D_m = sum(2 * p.x * ((m * p.x + b) - p.y) for p in points)\n",
        "\n",
        "    D_b = sum(2 * ((m * p.x + b) - p.y) for p in points)\n",
        "\n",
        "    m -= L * D_m\n",
        "    b -= L * D_b\n",
        "\n",
        "print(f\"y = {m} + {b}\")\n"
      ],
      "metadata": {
        "colab": {
          "base_uri": "https://localhost:8080/"
        },
        "id": "MibSvb0t-OBJ",
        "outputId": "d568cc46-0f78-40b3-919a-2af66b83908c"
      },
      "execution_count": 6,
      "outputs": [
        {
          "output_type": "stream",
          "name": "stdout",
          "text": [
            "y = 1.9393939393939548 + 4.733333333333227\n"
          ]
        }
      ]
    },
    {
      "cell_type": "markdown",
      "source": [
        "###*Stochastic Gradient Descent (SGD)*"
      ],
      "metadata": {
        "id": "9T-tUCTyC42C"
      }
    },
    {
      "cell_type": "markdown",
      "source": [
        "#####Stochastic Gradient Descent (SGD) is an optimization method used to minimize a loss function by iteratively updating model parameters using a single data point (or a small batch) at each step. It is commonly used in machine learning for training models like linear regression, logistic regression, and neural networks.\n",
        "\n",
        "\n",
        "##### Steps of Stochastic Gradient Descent\n",
        "1. **Initialize** the model parameters (e.g., $m$ and $b$) randomly or with zeros.\n",
        "2. **Repeat** for a fixed number of iterations or until convergence:\n",
        "   - Select a random data point $(x_i, y_i)$ from the dataset.\n",
        "   - Compute the gradients:\n",
        "     $$\n",
        "     \\text{Gradient for } m: \\frac{\\partial L}{\\partial m} = -2x_i \\left( y_i - (mx_i + b) \\right)\n",
        "     $$\n",
        "     $$\n",
        "     \\text{Gradient for } b: \\frac{\\partial L}{\\partial b} = -2 \\left( y_i - (mx_i + b) \\right)\n",
        "     $$\n",
        "   - pdate the parameters using the learning rate $\\eta$:\n",
        "\n",
        "    - $m = m - \\eta \\cdot \\frac{\\partial L}{\\partial m}$\n",
        "    - $b = b - \\eta \\cdot \\frac{\\partial L}{\\partial b}$\n"
      ],
      "metadata": {
        "id": "U_cDkkLqCtJM"
      }
    },
    {
      "cell_type": "code",
      "source": [
        "data = pd.read_csv('https://bit.ly/2KF29Bd', header=0)\n",
        "\n",
        "points = list(data.itertuples())\n",
        "\n",
        "# Initialize parameters\n",
        "m = 0.0  # slope\n",
        "b = 0.0  # intercept\n",
        "L = 0.01  # learning rate\n",
        "iterations = 10000\n",
        "\n",
        "# Stochastic Gradient Descent\n",
        "for _ in range(iterations):\n",
        "    # Select a random data point\n",
        "    p = points[np.random.randint(0, len(points))]\n",
        "    x_i, y_i = p.x, p.y  # Assuming the CSV has 'x' and 'y' columns\n",
        "\n",
        "    # Compute gradients\n",
        "    D_m = -2 * x_i * (y_i - (m * x_i + b))\n",
        "    D_b = -2 * (y_i - (m * x_i + b))\n",
        "\n",
        "    # Update parameters\n",
        "    m -= L * D_m\n",
        "    b -= L * D_b\n",
        "\n",
        "print(f\"Final model: y = {m:.2f}x + {b:.2f}\")\n"
      ],
      "metadata": {
        "id": "DrC3ktwdCnsN",
        "outputId": "af9b1943-6180-4bdd-fad1-e6b02d670cd1",
        "colab": {
          "base_uri": "https://localhost:8080/"
        }
      },
      "execution_count": 13,
      "outputs": [
        {
          "output_type": "stream",
          "name": "stdout",
          "text": [
            "Final model: y = 1.43x + 4.51\n"
          ]
        }
      ]
    },
    {
      "cell_type": "markdown",
      "source": [
        "###*Correlation*"
      ],
      "metadata": {
        "id": "ISVs1eL3GK0o"
      }
    },
    {
      "cell_type": "markdown",
      "source": [
        "#####**Correlation** is a statistical measure that describes the strength and direction of the relationship between two variables. It tells us how changes in one variable are related to changes in another.\n",
        "\n",
        "##### Types of Correlation:\n",
        "- **Positive correlation**: When one variable increases, the other increases as well (e.g., temperature and energy consumption).\n",
        "- **Negative correlation**: When one variable increases, the other decreases (e.g., hours spent studying and number of mistakes in a test).\n",
        "- **No correlation**: When changes in one variable do not affect the other.\n",
        "\n",
        "##### Correlation Coefficient (e.g., Pearson's):\n",
        "- **Range from -1 to 1**:\n",
        "  - **1**: Perfect positive correlation,\n",
        "  - **-1**: Perfect negative correlation,\n",
        "  - **0**: No correlation.\n",
        "\n",
        "##### How to calculate correlation?\n",
        "The formula for **Pearson correlation coefficient**:\n",
        "$$\n",
        "r = \\frac{\\sum{(x_i - \\bar{x})(y_i - \\bar{y})}}{\\sqrt{\\sum{(x_i - \\bar{x})^2} \\sum{(y_i - \\bar{y})^2}}}\n",
        "$$\n",
        "- Where:\n",
        "  - $x_i, y_i$ are individual observations,\n",
        "  - $\\bar{x}, \\bar{y}$ are the mean values of the variables.\n"
      ],
      "metadata": {
        "id": "-AFmdF8jGJrn"
      }
    },
    {
      "cell_type": "code",
      "source": [
        "data = pd.read_csv('https://bit.ly/2KF29Bd', header=0)\n",
        "\n",
        "correlation = df.corr()\n",
        "\n",
        "print(correlation)"
      ],
      "metadata": {
        "id": "zolG4zkWGez4",
        "outputId": "220dd08a-2cfc-44dd-a77b-6494fa8d2dcc",
        "colab": {
          "base_uri": "https://localhost:8080/"
        }
      },
      "execution_count": 14,
      "outputs": [
        {
          "output_type": "stream",
          "name": "stdout",
          "text": [
            "          x         y\n",
            "x  1.000000  0.957586\n",
            "y  0.957586  1.000000\n"
          ]
        }
      ]
    },
    {
      "cell_type": "code",
      "source": [
        "data = pd.read_csv('https://bit.ly/2KF29Bd', header=0)\n",
        "\n",
        "X = data.iloc[:, 0].values\n",
        "Y = data.iloc[:, 1].values\n",
        "\n",
        "mean_X = np.mean(X)\n",
        "mean_Y = np.mean(Y)\n",
        "\n",
        "deviation_X = X - mean_X\n",
        "deviation_Y = Y - mean_Y\n",
        "\n",
        "\n",
        "numerator = np.sum(deviation_X * deviation_Y)\n",
        "denominator = np.sqrt(np.sum(deviation_X**2)* np.sum(deviation_Y**2))\n",
        "\n",
        "r = numerator / denominator\n",
        "\n",
        "print(f\"Pearson correlation coefficient: {r:.4f}\")"
      ],
      "metadata": {
        "id": "YY87jvJZGmHl",
        "outputId": "cc4a2c10-ec0c-47d8-f647-69f3760c15b9",
        "colab": {
          "base_uri": "https://localhost:8080/"
        }
      },
      "execution_count": 22,
      "outputs": [
        {
          "output_type": "stream",
          "name": "stdout",
          "text": [
            "Pearson correlation coefficient: 0.9576\n"
          ]
        }
      ]
    },
    {
      "cell_type": "markdown",
      "source": [
        "###*Statistical Significance in Linear Regression*"
      ],
      "metadata": {
        "id": "wn1n-EzNMktB"
      }
    },
    {
      "cell_type": "markdown",
      "source": [
        "#####In linear regression, we test whether the relationship between the independent variable(s) and the dependent variable is statistically significant.\n",
        "\n",
        "##### Steps:\n",
        "1. **Null Hypothesis ($H_0$)**: There is no relationship between the variables ($m = 0$).\n",
        "2. **Alternative Hypothesis ($H_A$)**: There is a significant relationship ($m \\neq 0$).\n",
        "\n",
        "##### Test:\n",
        "- **t-statistic**: Measures how many standard errors the coefficient is away from zero:\n",
        "  \n",
        "  $$\n",
        "  t = \\frac{r \\cdot \\sqrt{n - 2}}{\\sqrt{1 - r^2}}\n",
        "  $$\n",
        "\n",
        "- **p-value**: For a two-tailed test, calculate the p-value as:\n",
        "\n",
        "  $$\n",
        "  p = 2 \\cdot (1 - \\text{CDF}(t))\n",
        "  $$\n",
        "\n",
        "  If the p-value is **less than 0.05**, we reject the null hypothesis and conclude that the relationship is statistically significant.\n",
        "\n"
      ],
      "metadata": {
        "id": "Qdeo-0TpMifK"
      }
    },
    {
      "cell_type": "code",
      "source": [
        "data = pd.read_csv('https://bit.ly/2KF29Bd', header=0)\n",
        "\n",
        "X = data.iloc[:, 0].values\n",
        "Y = data.iloc[:, 1].values\n",
        "\n",
        "mean_X = np.mean(X)\n",
        "mean_Y = np.mean(Y)\n",
        "\n",
        "deviation_X = X - mean_X\n",
        "deviation_Y = Y - mean_Y\n",
        "\n",
        "\n",
        "numerator = np.sum(deviation_X * deviation_Y)\n",
        "denominator = np.sqrt(np.sum(deviation_X**2)* np.sum(deviation_Y**2))\n",
        "\n",
        "r = numerator / denominator\n",
        "\n",
        "\n",
        "n = len(X)\n",
        "\n",
        "t_statistic = (r * np.sqrt(n-2)) / np.sqrt(1 - r**2)\n",
        "\n",
        "p_value = 2 * (1 - stats.t.cdf(np.abs(t_statistic), df=n-2))\n",
        "\n",
        "\n",
        "print(f\"Pearson correlation coefficient: {r:.4f}\\n\")\n",
        "print(f\"t_statistic is equal to: {t_statistic:.4f}\\n\")\n",
        "print(f\"p-value: {p_value}\\n\")\n",
        "\n",
        "\n",
        "alpha = 0.05\n",
        "\n",
        "if p_value < alpha:\n",
        "    print(\"The correlation is statistically significant.\")\n",
        "else:\n",
        "    print(\"The correlation is not statistically significant.\")"
      ],
      "metadata": {
        "id": "YnGhfIX0NOvg",
        "outputId": "0ba450a2-c70c-4f05-f7b0-359130f3d3fb",
        "colab": {
          "base_uri": "https://localhost:8080/"
        }
      },
      "execution_count": 33,
      "outputs": [
        {
          "output_type": "stream",
          "name": "stdout",
          "text": [
            "Pearson correlation coefficient: 0.9576\n",
            "\n",
            "t_statistic is equal to: 9.3996\n",
            "\n",
            "p-value: 1.3450346498800059e-05\n",
            "\n",
            "The correlation is statistically significant.\n"
          ]
        }
      ]
    },
    {
      "cell_type": "markdown",
      "source": [
        "###*Coefficient of Determination ($R^2$)*"
      ],
      "metadata": {
        "id": "aa444OIHPwZm"
      }
    },
    {
      "cell_type": "markdown",
      "source": [
        "#####The **coefficient of determination**, denoted as $R^2$, indicates how well the independent variables explain the variability in the dependent variable.\n",
        "\n",
        "##### Formula:\n",
        "$$\n",
        "R^2 = 1 - \\frac{\\sum (y_{\\text{true}} - y_{\\text{pred}})^2}{\\sum (y_{\\text{true}} - \\bar{y})^2}\n",
        "$$\n",
        "\n",
        "Alternatively, $R^2$ can be calculated by squaring the **Pearson correlation coefficient** ($r$):\n",
        "\n",
        "$$\n",
        "R^2 = r^2\n",
        "$$\n",
        "\n",
        "Where:\n",
        "- $r$ is the **Pearson correlation coefficient**, which measures the linear relationship between the variables.\n",
        "\n",
        "##### Interpretation:\n",
        "- $R^2 = 1$ indicates perfect prediction (all data points lie on the regression line).\n",
        "- $R^2 = 0$ means the model explains none of the variance in the data.\n",
        "- Values between 0 and 1 indicate how well the model fits the data; the higher the value, the better the model.\n"
      ],
      "metadata": {
        "id": "g2ah31VVPujx"
      }
    },
    {
      "cell_type": "code",
      "source": [
        "data = pd.read_csv('https://bit.ly/2KF29Bd', header=0)\n",
        "\n",
        "determination = df.corr() **2\n",
        "\n",
        "print(determination)"
      ],
      "metadata": {
        "id": "nRrF1TMUQTq5",
        "outputId": "f9b59fef-e361-4366-ec0f-a1cab3852465",
        "colab": {
          "base_uri": "https://localhost:8080/"
        }
      },
      "execution_count": 34,
      "outputs": [
        {
          "output_type": "stream",
          "name": "stdout",
          "text": [
            "          x         y\n",
            "x  1.000000  0.916971\n",
            "y  0.916971  1.000000\n"
          ]
        }
      ]
    },
    {
      "cell_type": "markdown",
      "source": [
        "###*Standard Error of Estimate (SEE)*"
      ],
      "metadata": {
        "id": "AnTVlJJfQ-hG"
      }
    },
    {
      "cell_type": "markdown",
      "source": [
        "#####The **Standard Error of Estimate (SEE)**, also known as the standard deviation of the residuals, measures the accuracy of predictions made by a regression model. It represents the average distance between the observed data points and the regression line.\n",
        "\n",
        "##### Formula:\n",
        "$$\n",
        "SEE = \\sqrt{\\frac{\\sum (y_{\\text{true}} - y_{\\text{pred}})^2}{n - 2}}\n",
        "$$\n",
        "\n",
        "Where:\n",
        "- $y_{\\text{true}}$: Actual values of the dependent variable.\n",
        "- $y_{\\text{pred}}$: Predicted values from the regression model.\n",
        "- $n$: Number of data points.\n",
        "\n",
        "##### Interpretation:\n",
        "- A **lower SEE** indicates that the regression model fits the data well, with small residuals.\n",
        "- A **higher SEE** suggests that the model does not fit the data well, with larger residuals.\n",
        "\n"
      ],
      "metadata": {
        "id": "NQM821c2Q7aO"
      }
    },
    {
      "cell_type": "code",
      "source": [
        "m = 1.93\n",
        "b = 4.73\n",
        "\n",
        "residuals = Y - (m * X + b)\n",
        "\n",
        "\n",
        "SEE = np.sqrt(np.sum(residuals**2) / (len(X) - 2))\n",
        "print(f\"Standard Error of Estimate: {SEE:.4f}\")\n"
      ],
      "metadata": {
        "id": "HwUn4bIiRgyW",
        "outputId": "7a9a1461-fda6-4d14-e280-eee43cfc03dd",
        "colab": {
          "base_uri": "https://localhost:8080/"
        }
      },
      "execution_count": 36,
      "outputs": [
        {
          "output_type": "stream",
          "name": "stdout",
          "text": [
            "Standard Error of Estimate: 1.8753\n"
          ]
        }
      ]
    },
    {
      "cell_type": "markdown",
      "source": [
        "###*Prediction Intervals in Linear Regression*"
      ],
      "metadata": {
        "id": "TksafjiRUdTQ"
      }
    },
    {
      "cell_type": "markdown",
      "source": [
        "#####In linear regression, prediction intervals provide a range of values within which we expect the predicted value of the dependent variable to fall for a given independent variable. They are used to quantify the uncertainty associated with predictions.\n",
        "##### Why Use Prediction Intervals?\n",
        "\n",
        "#####Prediction intervals are useful when you want to:\n",
        "- Estimate the range of possible future values for a given input.\n",
        "- Account for both the error in estimating the model parameters (slope and intercept) and the natural variability in the data.\n",
        "\n",
        "##### Formula for the Prediction Interval\n",
        "\n",
        "#####For a given point $x_0$, the prediction interval is:\n",
        "\n",
        "$$\n",
        "\\hat{y}_0 \\pm t_{\\alpha/2, n-2} \\cdot \\sqrt{MSE \\cdot \\left(1 + \\frac{1}{n} + \\frac{(x_0 - \\bar{x})^2}{\\sum_{i=1}^{n} (x_i - \\bar{x})^2}\\right)}\n",
        "$$\n",
        "\n",
        "Where:\n",
        "- $\\hat{y}_0$ is the predicted value at $x_0$,\n",
        "- $t_{\\alpha/2, n-2}$ is the critical value from the t-distribution for a given confidence level and degrees of freedom ($n-2$),\n",
        "- $MSE$ is the mean squared error of the regression model,\n",
        "- $n$ is the number of data points,\n",
        "- $\\bar{x}$ is the mean of the $x$ values,\n",
        "- $x_0$ is the value of the independent variable for which the prediction is made,\n",
        "- $x_i$ are the individual data points in the dataset.\n"
      ],
      "metadata": {
        "id": "4Je7ADraUYuR"
      }
    },
    {
      "cell_type": "code",
      "source": [
        "\n",
        "# Sample data\n",
        "data = pd.read_csv('https://bit.ly/2KF29Bd', header=0)\n",
        "X = data.iloc[:, 0]  # Independent variable\n",
        "Y = data.iloc[:, 1]  # Dependent variable\n",
        "\n",
        "# Add constant to X (intercept)\n",
        "X = sm.add_constant(X)\n",
        "\n",
        "# Fit the model\n",
        "model = sm.OLS(Y, X)\n",
        "results = model.fit()\n",
        "\n",
        "# Predict the value for a given x0\n",
        "x0 = 15  # Example value\n",
        "prediction = results.predict([1, x0])  # 1 is for the intercept\n",
        "\n",
        "# Calculate prediction intervals\n",
        "pred_int = results.get_prediction([1, x0]).summary_frame(alpha=0.05)\n",
        "\n",
        "# Extract lower and upper bounds of the interval\n",
        "lower_bound = pred_int['obs_ci_lower'][0]\n",
        "upper_bound = pred_int['obs_ci_upper'][0]\n",
        "\n",
        "# Plotting the graph\n",
        "plt.scatter(X.iloc[:, 1], Y, label='Data Points')\n",
        "plt.plot(X.iloc[:, 1], results.fittedvalues, label='Regression Line', color='red')\n",
        "plt.fill_between([x0], lower_bound, upper_bound, color='yellow', alpha=0.3, label='Prediction Interval')\n",
        "plt.scatter(x0, prediction, color='green', label=f'Prediction at x = {x0}')\n",
        "plt.legend()\n",
        "plt.xlabel('X')\n",
        "plt.ylabel('Y')\n",
        "plt.title('Prediction with Prediction Interval')\n",
        "plt.show()\n",
        "\n",
        "print(f\"Prediction for x = {x0}: {prediction[0]:.2f}\")\n",
        "print(f\"Prediction Interval for x = {x0}: [{lower_bound}, {upper_bound}]\")\n"
      ],
      "metadata": {
        "id": "LXt29fnnTS7F",
        "outputId": "3251803c-c44c-45f3-c917-1030e5e3f598",
        "colab": {
          "base_uri": "https://localhost:8080/",
          "height": 523
        }
      },
      "execution_count": 49,
      "outputs": [
        {
          "output_type": "display_data",
          "data": {
            "text/plain": [
              "<Figure size 640x480 with 1 Axes>"
            ],
            "image/png": "[encoded data removed]"
          },
          "metadata": {}
        },
        {
          "output_type": "stream",
          "name": "stdout",
          "text": [
            "Prediction for x = 15: 33.82\n",
            "Prediction Interval for x = 15: [27.423105119243036, 40.22537972924183]\n"
          ]
        }
      ]
    }
  ]
}