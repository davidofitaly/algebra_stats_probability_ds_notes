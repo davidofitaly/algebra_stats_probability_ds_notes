{
  "nbformat": 4,
  "nbformat_minor": 0,
  "metadata": {
    "colab": {
      "provenance": [],
      "authorship_tag": "ABX9TyPA/YxRpb511RUwM07COp6K",
      "include_colab_link": true
    },
    "kernelspec": {
      "name": "python3",
      "display_name": "Python 3"
    },
    "language_info": {
      "name": "python"
    }
  },
  "cells": [
    {
      "cell_type": "markdown",
      "metadata": {
        "id": "view-in-github",
        "colab_type": "text"
      },
      "source": [
        "<a href=\"https://colab.research.google.com/github/davidofitaly/algebra_stats_probability_ds_notes/blob/main/06_logistic_regression_basics_and_statistical_tests.ipynb\" target=\"_parent\"><img src=\"https://colab.research.google.com/assets/colab-badge.svg\" alt=\"Open In Colab\"/></a>"
      ]
    },
    {
      "cell_type": "code",
      "source": [
        "from sympy import *\n",
        "import numpy as np\n",
        "import pandas as pd\n",
        "from sklearn.linear_model import LogisticRegression\n",
        "import matplotlib.pyplot as plt\n",
        "import seaborn as sns\n",
        "import statsmodels.api as sm\n",
        "from sklearn.datasets import load_iris\n",
        "from sklearn.metrics import log_loss\n",
        "from scipy.stats import chi2\n",
        "from sklearn.metrics import confusion_matrix\n",
        "from sklearn.model_selection import train_test_split\n",
        "\n",
        "sns.set(font_scale=1.3)"
      ],
      "metadata": {
        "id": "zF2iVmCGebsa"
      },
      "execution_count": 23,
      "outputs": []
    },
    {
      "cell_type": "markdown",
      "source": [
        "###*Logistic Function*"
      ],
      "metadata": {
        "id": "SG01u8H5clxi"
      }
    },
    {
      "cell_type": "markdown",
      "source": [
        "#####The logistic function is a type of sigmoid function that maps any real-valued number into a range between 0 and 1. It is widely used in statistics, machine learning, and biology, especially for binary classification tasks.\n",
        "\n",
        "##### The general form of the logistic function is:\n",
        "\n",
        "$$\n",
        "f(x) = \\frac{1}{1 + e^{-(b_0 + b_1 x)}}\n",
        "$$\n",
        "\n",
        "##### Where:\n",
        "- $f(x)$: Output of the logistic function (range between 0 and 1),\n",
        "- $x$: Input value (can be any real number),\n",
        "- $b_0$: Intercept (a parameter that shifts the curve along the x-axis),\n",
        "- $b_1$: Slope (a parameter that controls the steepness of the curve).\n",
        "\n",
        "##### **Properties:**\n",
        "- The logistic function produces an \"S\" shaped curve, also known as a sigmoid curve.\n",
        "- As $x \\to \\infty$, $f(x) \\to 1$.\n",
        "- As $x \\to -\\infty$, $f(x) \\to 0$.\n",
        "- The curve is symmetric around $x = -\\frac{b_0}{b_1}$, where $f(x) = 0.5$.\n",
        "\n",
        "\n"
      ],
      "metadata": {
        "id": "FDIiRT6dcjTV"
      }
    },
    {
      "cell_type": "markdown",
      "source": [
        "#### Exercise 6.1\n",
        "\n",
        "\n",
        "####Implement the logistic function and visualize it.\n",
        "\n",
        "1. Define the logistic function in the form:\n",
        "   $$\n",
        "   p(x) = \\frac{1}{1 + e^{-(b_0 + b_1 \\cdot x)}}\n",
        "   $$\n",
        "\n",
        "2. Substitute the following values for the parameters:\n",
        "   - $b_0 = 0$\n",
        "   - $b_1 = 1$\n",
        "\n",
        "3. Simplify the expression with the substituted values.\n",
        "\n",
        "4. Plot the resulting logistic function.\n"
      ],
      "metadata": {
        "id": "mZPaN0ttf9t4"
      }
    },
    {
      "cell_type": "code",
      "execution_count": null,
      "metadata": {
        "colab": {
          "base_uri": "https://localhost:8080/",
          "height": 501
        },
        "id": "Lyr9JJ96cidg",
        "outputId": "24d84c19-cdc9-49b2-f515-0937041a0efb"
      },
      "outputs": [
        {
          "output_type": "display_data",
          "data": {
            "text/plain": [
              "<Figure size 640x480 with 1 Axes>"
            ],
            "image/png": "[encoded data removed]"
          },
          "metadata": {}
        },
        {
          "output_type": "execute_result",
          "data": {
            "text/plain": [
              "<sympy.plotting.backends.matplotlibbackend.matplotlib.MatplotlibBackend at 0x7b5b33856b90>"
            ]
          },
          "metadata": {},
          "execution_count": 8
        }
      ],
      "source": [
        "b0, b1, x = symbols('b0 b1 x')\n",
        "\n",
        "p = 1.0 / (1.0 + exp(-(b0 + b1 * x)))\n",
        "\n",
        "p = p.subs(b0, 0)\n",
        "p = p.subs(b1, 1)\n",
        "\n",
        "\n",
        "plot(p)\n"
      ]
    },
    {
      "cell_type": "markdown",
      "source": [
        "###Fitting the Logistic Curve"
      ],
      "metadata": {
        "id": "fXmfh6nuk04A"
      }
    },
    {
      "cell_type": "code",
      "source": [
        "df = pd.read_csv('https://bit.ly/33ebs2R', delimiter=',')\n",
        "\n",
        "print(df.head())\n",
        "\n",
        "X = df.values[:, :-1]\n",
        "Y = df.values[:, -1]\n",
        "\n",
        "model = LogisticRegression()\n",
        "model.fit(X,Y)\n",
        "\n",
        "print(f\"Coefficients: {model.coef_.flatten()[0]}\")\n",
        "print(f\"Intercept: {model.intercept_.flatten()[0]}\")\n",
        "\n",
        "if X.shape[1] == 1:\n",
        "    # Plot the data points\n",
        "    plt.scatter(X, Y, c=Y, s=50, edgecolor='k', cmap='RdYlBu')\n",
        "\n",
        "    # Plot the decision boundary as a vertical line\n",
        "    x_vals = np.linspace(X.min() - 1, X.max() + 1, 100).reshape(-1, 1)\n",
        "    y_vals = model.predict_proba(x_vals)[:, 1]\n",
        "\n",
        "    plt.plot(x_vals, y_vals, color='red', label=\"Decision Boundary\")\n",
        "\n",
        "    # Add labels and title\n",
        "    plt.title(\"Logistic Regression: Data points and decision boundary\")\n",
        "    plt.xlabel(\"Feature 1\")\n",
        "    plt.ylabel(\"Probability\")\n",
        "    plt.legend(loc='lower center', bbox_to_anchor=(0.5, 1.1), ncol=1)\n",
        "\n",
        "    # Show the plot\n",
        "    plt.show()\n"
      ],
      "metadata": {
        "colab": {
          "base_uri": "https://localhost:8080/",
          "height": 685
        },
        "id": "HmE5TM5YhVOB",
        "outputId": "7b05c91e-6472-462d-f708-3ebe2551dcba"
      },
      "execution_count": null,
      "outputs": [
        {
          "output_type": "stream",
          "name": "stdout",
          "text": [
            "     x  y\n",
            "0  1.0  0\n",
            "1  1.5  0\n",
            "2  2.1  0\n",
            "3  2.4  0\n",
            "4  2.5  1\n",
            "Coefficients: 0.6394301762902932\n",
            "Intercept: -2.9159294701778484\n"
          ]
        },
        {
          "output_type": "display_data",
          "data": {
            "text/plain": [
              "<Figure size 640x480 with 1 Axes>"
            ],
            "image/png": "[encoded data removed]"
          },
          "metadata": {}
        }
      ]
    },
    {
      "cell_type": "markdown",
      "source": [
        "###*Logistic Regression with Multiple Variables*"
      ],
      "metadata": {
        "id": "-40sfsp6n19a"
      }
    },
    {
      "cell_type": "markdown",
      "source": [
        "#####Logistic Regression is a statistical method used to model the relationship between a binary dependent variable ($y$) and multiple independent variables ($x_1, x_2, \\dots, x_n$). It is an extension of linear regression that is used for classification tasks, where the goal is to predict the probability of an outcome that can take one of two possible values.\n",
        "\n",
        "##### General Formula:\n",
        "#####The logistic regression model for multiple variables is expressed as:\n",
        "\n",
        "$$\n",
        "P(y = 1 | x_1, x_2, \\dots, x_n) = \\frac{1}{1 + e^{-(b_0 + b_1 x_1 + b_2 x_2 + \\dots + b_n x_n)}}\n",
        "$$\n",
        "\n",
        "##### Where:\n",
        "- $P(y = 1 | x_1, x_2, \\dots, x_n)$: Probability of the outcome being 1 (success), given the values of the independent variables $x_1, x_2, \\dots, x_n$.\n",
        "- $b_0$: Intercept (bias) term.\n",
        "- $b_1, b_2, \\dots, b_n$: Coefficients for each independent variable $x_1, x_2, \\dots, x_n$.\n",
        "- $e$: Euler's number (approximately 2.718).\n",
        "\n"
      ],
      "metadata": {
        "id": "8QgoNl4Inh8Q"
      }
    },
    {
      "cell_type": "markdown",
      "source": [
        "###*Logarithm of Odds (Log-Odds)*"
      ],
      "metadata": {
        "id": "e46Up3VItaKZ"
      }
    },
    {
      "cell_type": "markdown",
      "source": [
        "#####Logarithm of odds, also known as **log-odds**, is a transformation of the odds of an event occurring. In the context of logistic regression, it is used to model the relationship between the independent variables and the probability of a binary outcome.\n",
        "\n",
        "##### Definition:\n",
        "\n",
        "#####The **odds** of an event occurring is the ratio of the probability of the event happening to the probability of it not happening. If $P(y=1)$ represents the probability of the event occurring (success), the odds are given by:\n",
        "\n",
        "$$\n",
        "\\text{Odds} = \\frac{P(y=1)}{1 - P(y=1)}\n",
        "$$\n",
        "\n",
        "The **log-odds** is the natural logarithm of the odds:\n",
        "\n",
        "$$\n",
        "\\text{Log-Odds} = \\log\\left(\\frac{P(y=1)}{1 - P(y=1)}\\right)\n",
        "$$\n",
        "\n",
        "##### Relation to Logistic Regression:\n",
        "\n",
        "#####In logistic regression, the log-odds of the probability of success is modeled as a linear combination of the independent variables. The general form of the logistic regression model is:\n",
        "\n",
        "$$\n",
        "\\text{Log-Odds}(P) = b_0 + b_1 x_1 + b_2 x_2 + \\dots + b_n x_n\n",
        "$$\n",
        "\n",
        "#####Where:\n",
        "- $P$: Probability of the event occurring.\n",
        "- $b_0$: Intercept (bias term).\n",
        "- $b_1, b_2, \\dots, b_n$: Coefficients of the independent variables $x_1, x_2, \\dots, x_n$.\n",
        "\n",
        "The log-odds are then transformed using the **sigmoid function** to obtain a probability value between 0 and 1:\n",
        "\n",
        "$$\n",
        "P(y = 1 | x_1, x_2, \\dots, x_n) = \\frac{1}{1 + e^{-(b_0 + b_1 x_1 + b_2 x_2 + \\dots + b_n x_n)}}\n",
        "$$\n",
        "\n",
        "##### Interpretation:\n",
        "\n",
        "- **Coefficients**: Each coefficient $b_i$ represents the change in the log-odds of the outcome for a one-unit increase in the corresponding predictor variable $x_i$, holding all other variables constant.\n",
        "  - A positive coefficient increases the odds of success (event occurring).\n",
        "  - A negative coefficient decreases the odds of success.\n",
        "- **Log-Odds to Probability**: The log-odds value is transformed into a probability between 0 and 1 by applying the sigmoid function. This is the key aspect of logistic regression, as it allows for a probabilistic interpretation.\n",
        "\n",
        "##### Example:\n",
        "If the log-odds equation for a logistic regression model is:\n",
        "\n",
        "$$\n",
        "\\text{Log-Odds}(P) = -1.2 + 0.5 x_1 + 2.0 x_2\n",
        "$$\n",
        "\n",
        "This means:\n",
        "- For each one-unit increase in $x_1$, the log-odds of success increase by 0.5.\n",
        "- For each one-unit increase in $x_2$, the log-odds of success increase by 2.0.\n",
        "- The intercept $b_0 = -1.2$ represents the log-odds of success when $x_1$ and $x_2$ are both 0.\n",
        "\n"
      ],
      "metadata": {
        "id": "I5jp5BOEtSkk"
      }
    },
    {
      "cell_type": "markdown",
      "source": [
        "###*$ R^2 $ in Logistic Regression (Based on Log-Likelihood)*"
      ],
      "metadata": {
        "id": "l9J3x7dsmXTC"
      }
    },
    {
      "cell_type": "markdown",
      "source": [
        "#####In logistic regression, the classic $ R^2 $ coefficient used in linear regression is not directly applicable due to the binary nature of the outcome variable and the non-linear relationship. However, a similar measure called **pseudo-$ R^2 $** is used to assess the goodness of fit of the model. One common method to calculate pseudo-$ R^2 $ is based on comparing the log-likelihood of the fitted model to the log-likelihood of the null model (model with no predictors).\n",
        "\n",
        "##### **Formula for Pseudo-$ R^2 $:**\n",
        "\n",
        "$$\n",
        "R^2 = \\frac{\\log(L(\\hat{\\beta_0})) - \\log(L(\\hat{\\beta}))}{\\log(L(\\hat{\\beta_0}))}\n",
        "$$\n",
        "\n",
        "Where:\n",
        "- $ \\log(L(\\hat{\\beta_0})) $ is the log-likelihood of the null model (a model with only the intercept, no predictors),\n",
        "- $ \\log(L(\\hat{\\beta})) $ is the log-likelihood of the fitted model (a model with explanatory variables).\n",
        "\n",
        "##### **Interpretation:**\n",
        "- **$ R^2 = 0 $** means that the fitted model does not improve upon the null model and does not explain the data better than simply using the intercept.\n",
        "- **$ R^2 = 1 $** means that the fitted model perfectly explains the data and is a significant improvement over the null model.\n",
        "- Values between 0 and 1 indicate the degree of improvement in model fit. The closer the value is to 1, the better the fitted model explains the data compared to the null model.\n",
        "\n",
        "##### **Why Use Pseudo-$ R^2 $?**\n",
        "- The classic $ R^2 $ is not suitable for logistic regression due to the nature of the data (binary outcomes). Pseudo-$ R^2 $ provides a way to evaluate how well the model fits the data relative to a baseline (null) model.\n",
        "- It is important to note that pseudo-$ R^2 $ does not have the same interpretation as the traditional $ R^2 $ in linear regression and should not be treated as a direct measure of explained variance.\n",
        "\n",
        "##### **Example:**\n",
        "- If the log-likelihood of the null model is $ \\log(L(\\hat{\\beta_0})) = -500 $ and the log-likelihood of the fitted model is $ \\log(L(\\hat{\\beta})) = -400 $, the pseudo-$ R^2 $ is calculated as:\n",
        "\n",
        "$$\n",
        "R^2 = \\frac{-500 - (-400)}{-500} = \\frac{-100}{-500} = 0.2\n",
        "$$\n",
        "\n",
        "This means the fitted model explains 20% of the improvement in log-likelihood compared to the null model.\n",
        "\n",
        "##### **Summary:**\n",
        "- Pseudo-$ R^2 $ is a way of evaluating the fit of a logistic regression model, based on the improvement in log-likelihood over the null model.\n",
        "- A higher value of pseudo-$ R^2 $ indicates that the model explains more of the variance in the data.\n"
      ],
      "metadata": {
        "id": "AFNI8LPsmEpW"
      }
    },
    {
      "cell_type": "code",
      "source": [
        "# Load the dataset\n",
        "df = pd.read_csv('https://bit.ly/33ebs2R', delimiter=',')\n",
        "\n",
        "# Extract features and target variable\n",
        "X = df.values[:, :-1]\n",
        "Y = df.values[:, -1]\n",
        "\n",
        "# Fit the logistic regression model\n",
        "model = LogisticRegression()\n",
        "model.fit(X, Y)\n",
        "\n",
        "# Log-likelihood for the fitted model\n",
        "y_probs_fitted = model.predict_proba(X)[:, 1]  # Probability of the positive class\n",
        "log_likelihood_fitted = -log_loss(Y, y_probs_fitted) * len(Y)  # log_loss returns negative log-likelihood\n",
        "\n",
        "# Null model (model with only intercept, no features)\n",
        "model_null = LogisticRegression(fit_intercept=True)\n",
        "model_null.fit(np.ones((X.shape[0], 1)), Y)  # Use only intercept (constant)\n",
        "y_probs_null = model_null.predict_proba(np.ones((X.shape[0], 1)))[:, 1]\n",
        "log_likelihood_null = -log_loss(Y, y_probs_null) * len(Y)  # log_loss returns negative log-likelihood\n",
        "\n",
        "# Calculate pseudo-R^2\n",
        "pseudo_r_squared = (log_likelihood_null - log_likelihood_fitted) / log_likelihood_null\n",
        "\n",
        "# Print the results\n",
        "print(f\"Log-Likelihood for the fitted model: {log_likelihood_fitted}\")\n",
        "print(f\"Log-Likelihood for the null model: {log_likelihood_null}\")\n",
        "print(f\"Pseudo-R^2: {pseudo_r_squared}\")"
      ],
      "metadata": {
        "colab": {
          "base_uri": "https://localhost:8080/"
        },
        "id": "VRcES0guq1U7",
        "outputId": "cdf17391-42e4-4568-f3fb-4e42e76b792d"
      },
      "execution_count": 14,
      "outputs": [
        {
          "output_type": "stream",
          "name": "stdout",
          "text": [
            "Log-Likelihood for the fitted model: -9.962837414746899\n",
            "Log-Likelihood for the null model: -14.341070285021\n",
            "Pseudo-R^2: 0.30529331376662244\n"
          ]
        }
      ]
    },
    {
      "cell_type": "markdown",
      "source": [
        "###*P-value for Logistic Regression (Chi-Square)*"
      ],
      "metadata": {
        "id": "V_s0j0EUtOnW"
      }
    },
    {
      "cell_type": "markdown",
      "source": [
        "#####In logistic regression, the p-value tests if an explanatory variable significantly affects the dependent variable. This is done using the Chi-square test.\n",
        "\n",
        "#### **Chi-Square Test Statistic**:\n",
        "$$\n",
        "\\chi^2 = 2 \\times \\left( \\text{log-likelihood of full model} - \\text{log-likelihood of null model} \\right)\n",
        "$$\n",
        "\n",
        "#####The p-value is derived from the Chi-square statistic and indicates whether the variable is statistically significant. A p-value < 0.05 means the variable significantly affects the outcome.\n"
      ],
      "metadata": {
        "id": "P3l7enoVtLy1"
      }
    },
    {
      "cell_type": "code",
      "source": [
        "# Calculate the chi-square statistic\n",
        "chi_square_stat = 2 * (log_likelihood_null - log_likelihood_fitted)\n",
        "\n",
        "# Degrees of freedom: number of parameters in the full model (excluding the intercept)\n",
        "df_model = X.shape[1]\n",
        "\n",
        "# Calculate the p-value for the chi-square statistic\n",
        "p_value = 1 - chi2.cdf(chi_square_stat, df_model)\n",
        "\n",
        "# Print the results\n",
        "print(f\"Chi-Square Statistic: {chi_square_stat}\")\n",
        "print(f\"P-value: {p_value}\")"
      ],
      "metadata": {
        "colab": {
          "base_uri": "https://localhost:8080/"
        },
        "id": "o3s8zJTUt_Xf",
        "outputId": "8550ba7c-974b-44fa-9b04-3058cb593abc"
      },
      "execution_count": 16,
      "outputs": [
        {
          "output_type": "stream",
          "name": "stdout",
          "text": [
            "Chi-Square Statistic: -8.756465740548204\n",
            "P-value: 1.0\n"
          ]
        }
      ]
    },
    {
      "cell_type": "code",
      "source": [
        "df = pd.read_csv('https://bit.ly/3cManTi')\n",
        "\n",
        "X = df.values[:, :-1]\n",
        "Y = df.values[:, -1]\n",
        "\n",
        "model = LogisticRegression(solver='liblinear')\n",
        "\n",
        "X_train, X_test, y_train, y_test = train_test_split(X, Y, test_size=.33, random_state=42)\n",
        "\n",
        "model.fit(X_train, y_train)\n",
        "\n",
        "forecast = model.predict(X_test)\n",
        "\n",
        "confusion = confusion_matrix(y_true = y_test, y_pred=forecast)\n",
        "\n",
        "print(confusion)\n"
      ],
      "metadata": {
        "colab": {
          "base_uri": "https://localhost:8080/"
        },
        "id": "rT5KVZeZvs59",
        "outputId": "4bb7fbcf-95b4-4bdb-ba0d-42c59a3051f9"
      },
      "execution_count": 25,
      "outputs": [
        {
          "output_type": "stream",
          "name": "stdout",
          "text": [
            "[[6 5]\n",
            " [2 5]]\n"
          ]
        }
      ]
    }
  ]
}