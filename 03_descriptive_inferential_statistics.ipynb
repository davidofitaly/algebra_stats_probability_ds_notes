{
  "nbformat": 4,
  "nbformat_minor": 0,
  "metadata": {
    "colab": {
      "provenance": [],
      "authorship_tag": "ABX9TyMb3kFUhugUIwFAfpbSyInK",
      "include_colab_link": true
    },
    "kernelspec": {
      "name": "python3",
      "display_name": "Python 3"
    },
    "language_info": {
      "name": "python"
    }
  },
  "cells": [
    {
      "cell_type": "markdown",
      "metadata": {
        "id": "view-in-github",
        "colab_type": "text"
      },
      "source": [
        "<a href=\"https://colab.research.google.com/github/davidofitaly/algebra_stats_probability_ds_notes/blob/main/03_descriptive_inferential_statistics.ipynb\" target=\"_parent\"><img src=\"https://colab.research.google.com/assets/colab-badge.svg\" alt=\"Open In Colab\"/></a>"
      ]
    },
    {
      "cell_type": "markdown",
      "source": [
        "###*Mean and Weighted Mean*"
      ],
      "metadata": {
        "id": "-daZ0GK1dIjM"
      }
    },
    {
      "cell_type": "markdown",
      "source": [
        "#####The **mean** and **weighted mean** are fundamental concepts in statistics, used to measure the central tendency of a dataset. This includes distinctions between **sample mean** and **population mean**.\n",
        "\n",
        "\n",
        "\n",
        "##### **Arithmetic Mean:**\n",
        "\n",
        "#####The **mean** (or **arithmetic mean**) represents the average value of a dataset. It can be calculated for either a **population** or a **sample**.\n",
        "\n",
        "\n",
        "##### **Population Mean ($\\mu$):**\n",
        "\n",
        "#####The **population mean** is the average of all values in an entire population. It is a fixed value.\n",
        "\n",
        "##### **Formula:**\n",
        "$$\n",
        "\\mu = \\frac{\\sum_{i=1}^N x_i}{N}\n",
        "$$\n",
        "\n",
        "##### **Where:**\n",
        "- $x_i$: The $i$-th value in the population,\n",
        "- $N$: Total number of values in the population.\n",
        "\n",
        "##### **Sample Mean ($\\bar{x}$):**\n",
        "\n",
        "#####The **sample mean** is the average of values in a sample, which is a subset of the population. It is used to estimate the population mean.\n",
        "\n",
        "##### **Formula:**\n",
        "$$\n",
        "\\bar{x} = \\frac{\\sum_{i=1}^n x_i}{n}\n",
        "$$\n",
        "\n",
        "##### **Where:**\n",
        "- $x_i$: The $i$-th value in the sample,\n",
        "- $n$: Total number of values in the sample.\n",
        "\n",
        "##### **Example (Population and Sample):**\n",
        "\n",
        "Given the population $[3, 5, 7, 9]$:\n",
        "$$\n",
        "\\mu = \\frac{3 + 5 + 7 + 9}{4} = \\frac{24}{4} = 6\n",
        "$$\n",
        "\n",
        "For a sample $[3, 9]$ taken from the population:\n",
        "$$\n",
        "\\bar{x} = \\frac{3 + 9}{2} = \\frac{12}{2} = 6\n",
        "$$\n",
        "\n",
        "\n",
        "##### **Weighted Mean:**\n",
        "\n",
        "The **weighted mean** accounts for the importance (or weight) of each value, whether in a population or sample.\n",
        "\n",
        "##### **Formula:**\n",
        "$$\n",
        "\\text{Weighted Mean (} \\mu_w \\text{ or } \\bar{x}_w \\text{)} = \\frac{\\sum_{i=1}^n w_i x_i}{\\sum_{i=1}^n w_i}\n",
        "$$\n",
        "\n",
        "##### **Where:**\n",
        "- $x_i$: The $i$-th value,\n",
        "- $w_i$: The weight associated with $x_i$,\n",
        "- $\\sum_{i=1}^n w_i$: The total of all weights.\n",
        "\n",
        "##### **Example (Weighted Mean):**\n",
        "\n",
        "Given values $[10, 20, 30]$ with weights $[1, 2, 3]$:\n",
        "$$\n",
        "\\mu_w = \\frac{1 \\cdot 10 + 2 \\cdot 20 + 3 \\cdot 30}{1 + 2 + 3}\n",
        "= \\frac{10 + 40 + 90}{6}\n",
        "= \\frac{140}{6} = 23.33\n",
        "$$\n",
        "\n",
        "\n",
        "##### **Key Distinctions:**\n",
        "\n",
        "1. **Population Mean ($\\mu$):**\n",
        "   - Considers all values in the population,\n",
        "   - Fixed and unchanging.\n",
        "\n",
        "2. **Sample Mean ($\\bar{x}$):**\n",
        "   - Uses only a subset of the population,\n",
        "   - May vary between samples and is used to estimate $\\mu$.\n",
        "\n",
        "3. **Weighted Mean ($\\mu_w$ or $\\bar{x}_w$):**\n",
        "   - Adjusts for the relative importance of values,\n",
        "   - Useful in scenarios where some data points carry more significance.\n"
      ],
      "metadata": {
        "id": "fhE5se2Sdspr"
      }
    },
    {
      "cell_type": "markdown",
      "source": [
        "### *Median*"
      ],
      "metadata": {
        "id": "otdFvD9Eg0SP"
      }
    },
    {
      "cell_type": "markdown",
      "source": [
        "#####The **median** is a measure of central tendency that represents the middle value in a dataset when the values are arranged in ascending or descending order. Unlike the mean, the median is not influenced by extreme values or outliers.\n",
        "\n",
        "\n",
        "\n",
        "##### **Key Characteristics:**\n",
        "\n",
        "1. **Order Matters:**  \n",
        "   To determine the median, the data must first be arranged in order (ascending or descending).\n",
        "\n",
        "2. **Robustness:**  \n",
        "   The median is resistant to extreme values, making it ideal for skewed datasets.\n",
        "\n",
        "3. **Applicability:**  \n",
        "   The median can be calculated for both populations and samples.\n",
        "\n",
        "\n",
        "\n",
        "##### **Calculating the Median:**\n",
        "\n",
        "1. **For Odd Number of Observations ($n$):**  \n",
        "   The median is the value at the middle position:\n",
        "   $$\n",
        "   \\text{Median} = x_{\\frac{n+1}{2}}\n",
        "   $$\n",
        "\n",
        "2. **For Even Number of Observations ($n$):**  \n",
        "   The median is the average of the two middle values:\n",
        "   $$\n",
        "   \\text{Median} = \\frac{x_{\\frac{n}{2}} + x_{\\frac{n}{2} + 1}}{2}\n",
        "   $$\n",
        "\n",
        "\n",
        "##### **Example:**\n",
        "\n",
        "**Dataset 1 (Odd Number of Values):**  \n",
        "$[3, 5, 7, 9, 11]$  \n",
        "- Arrange in ascending order: $[3, 5, 7, 9, 11]$  \n",
        "- Middle position: $7$ (3rd value)  \n",
        "$$\n",
        "\\text{Median} = 7\n",
        "$$\n",
        "\n",
        "**Dataset 2 (Even Number of Values):**  \n",
        "$[2, 4, 6, 8, 10, 12]$  \n",
        "- Arrange in ascending order: $[2, 4, 6, 8, 10, 12]$  \n",
        "- Middle values: $6$ and $8$  \n",
        "$$\n",
        "\\text{Median} = \\frac{6 + 8}{2} = 7\n",
        "$$\n",
        "\n",
        "\n",
        "\n",
        "##### **Median vs. Mean:**\n",
        "\n",
        "1. **Sensitivity to Outliers:**  \n",
        "   - The **mean** is affected by extreme values, while the **median** is not.\n",
        "\n",
        "2. **Use Cases:**  \n",
        "   - The **median** is preferred for skewed datasets (e.g., income, house prices).\n",
        "   - The **mean** is used for symmetrical datasets with no outliers.\n"
      ],
      "metadata": {
        "id": "eQMJKLaOg4OY"
      }
    },
    {
      "cell_type": "markdown",
      "source": [
        "###*Mode*\n"
      ],
      "metadata": {
        "id": "6usL4bpqjFd4"
      }
    },
    {
      "cell_type": "markdown",
      "source": [
        "#####The **mode** (dominanta) is a measure of central tendency that identifies the most frequently occurring value(s) in a dataset. It is especially useful for categorical or discrete data and can be applied to both populations and samples.\n",
        "\n",
        "\n",
        "\n",
        "##### **Key Characteristics:**\n",
        "\n",
        "1. **Frequency-Based:**  \n",
        "   The mode is the value(s) that appear most often in the dataset.\n",
        "\n",
        "2. **Applicability:**  \n",
        "   - For numerical data: Finds the most common value.  \n",
        "   - For categorical data: Identifies the most frequent category.\n",
        "\n",
        "3. **Types of Datasets:**  \n",
        "   - A dataset can have:\n",
        "     - **No mode:** If all values occur with the same frequency.  \n",
        "     - **One mode (Unimodal):** If a single value dominates.  \n",
        "     - **Two modes (Bimodal):** If two values have the highest frequency.  \n",
        "     - **Multiple modes (Multimodal):** If more than two values share the highest frequency.\n",
        "\n",
        "\n",
        "\n",
        "##### **Calculating the Mode:**\n",
        "\n",
        "1. Arrange the data (optional, but helpful for clarity).  \n",
        "2. Count the frequency of each value.  \n",
        "3. Identify the value(s) with the highest frequency.\n",
        "\n",
        "\n",
        "\n",
        "##### **Example 1 (Numerical Data):**  \n",
        "Dataset: $[2, 4, 4, 6, 6, 6, 8, 10]$  \n",
        "- Frequency:  \n",
        "  $2 \\rightarrow 1$, $4 \\rightarrow 2$, $6 \\rightarrow 3$, $8 \\rightarrow 1$, $10 \\rightarrow 1$  \n",
        "- **Mode:** $6$ (appears 3 times)\n",
        "\n",
        "\n",
        "\n",
        "##### **Example 2 (Categorical Data):**  \n",
        "Dataset: $[\\text{Red}, \\text{Blue}, \\text{Red}, \\text{Green}, \\text{Blue}, \\text{Blue}]$  \n",
        "- Frequency:  \n",
        "  $\\text{Red} \\rightarrow 2$, $\\text{Blue} \\rightarrow 3$, $\\text{Green} \\rightarrow 1$  \n",
        "- **Mode:** $\\text{Blue}$ (appears 3 times)\n",
        "\n",
        "\n",
        "\n",
        "##### **Mode vs. Mean and Median:**\n",
        "\n",
        "1. **Dataset Type:**  \n",
        "   - The **mode** is ideal for categorical data.  \n",
        "   - The **mean** and **median** are better for numerical data.\n",
        "\n",
        "2. **Skewed Data:**  \n",
        "   - The **mode** provides a quick insight into the most typical value, especially in skewed distributions.\n",
        "\n",
        "3. **Multiple Values:**  \n",
        "   - The mode can represent multiple values, unlike the mean or median, which are unique.\n",
        "\n"
      ],
      "metadata": {
        "id": "pdpbTzQSjBJp"
      }
    },
    {
      "cell_type": "markdown",
      "source": [
        "###*Variance and Standard Deviation ($\\sigma$) for a Population*"
      ],
      "metadata": {
        "id": "CWXWymc5K8su"
      }
    },
    {
      "cell_type": "markdown",
      "source": [
        "#####The **variance** and **standard deviation** measure the spread of data points in a population. Variance quantifies the average squared deviations from the mean, while standard deviation represents the square root of the variance.\n",
        "\n",
        "\n",
        "\n",
        "##### **Formulas:**\n",
        "\n",
        "1. **Population Variance ($\\sigma^2$):**\n",
        "   $$\n",
        "   \\sigma^2 = \\frac{\\sum_{i=1}^N (x_i - \\mu)^2}{N}\n",
        "   $$\n",
        "\n",
        "2. **Population Standard Deviation ($\\sigma$):**\n",
        "   $$\n",
        "   \\sigma = \\sqrt{\\sigma^2} = \\sqrt{\\frac{\\sum_{i=1}^N (x_i - \\mu)^2}{N}}\n",
        "   $$\n",
        "\n",
        "##### **Where:**\n",
        "- $x_i$: The $i$-th value in the population,\n",
        "- $\\mu$: Population mean,\n",
        "- $N$: Total number of values in the population.\n",
        "\n",
        "\n",
        "\n",
        "##### **Steps to Calculate:**\n",
        "\n",
        "1. Compute the population mean ($\\mu$):\n",
        "   $$\n",
        "   \\mu = \\frac{\\sum_{i=1}^N x_i}{N}\n",
        "   $$\n",
        "2. Subtract the mean from each data point and square the result:\n",
        "   $$\n",
        "   (x_i - \\mu)^2\n",
        "   $$\n",
        "3. Compute the variance:\n",
        "   $$\n",
        "   \\sigma^2 = \\frac{\\sum_{i=1}^N (x_i - \\mu)^2}{N}\n",
        "   $$\n",
        "4. Take the square root of the variance to find the standard deviation:\n",
        "   $$\n",
        "   \\sigma = \\sqrt{\\sigma^2}\n",
        "   $$\n",
        "\n",
        "\n",
        "\n",
        "##### **Example:**\n",
        "\n",
        "Consider the population dataset: $[3, 5, 7, 9]$\n",
        "\n",
        "1. Calculate the mean:\n",
        "   $$\n",
        "   \\mu = \\frac{3 + 5 + 7 + 9}{4} = 6\n",
        "   $$\n",
        "2. Compute squared deviations:\n",
        "   $$\n",
        "   (3 - 6)^2 = 9, \\quad (5 - 6)^2 = 1, \\quad (7 - 6)^2 = 1, \\quad (9 - 6)^2 = 9\n",
        "   $$\n",
        "3. Calculate variance:\n",
        "   $$\n",
        "   \\sigma^2 = \\frac{9 + 1 + 1 + 9}{4} = \\frac{20}{4} = 5\n",
        "   $$\n",
        "4. Calculate standard deviation:\n",
        "   $$\n",
        "   \\sigma = \\sqrt{5} \\approx 2.24\n",
        "   $$\n"
      ],
      "metadata": {
        "id": "Dx-BK4IyLBP3"
      }
    },
    {
      "cell_type": "markdown",
      "source": [
        "#### exercise 3.1\n",
        "\n",
        "######A company surveyed the monthly expenses (in dollars) of its employees on transportation. The expenses for all 6 employees are:  \n",
        "$$\n",
        "[150, 200, 180, 220, 210, 190]\n",
        "$$  \n",
        "\n",
        "######Calculate:  \n",
        "1. The population mean ($\\mu$).  \n",
        "2. The population variance ($\\sigma^2$).  \n",
        "3. The population standard deviation ($\\sigma$).  "
      ],
      "metadata": {
        "id": "vNufa64IN9kG"
      }
    },
    {
      "cell_type": "code",
      "source": [
        "expenses = [150, 200, 180, 220, 210, 190]\n",
        "\n",
        "mi = sum(expenses) / len(expenses)\n",
        "\n",
        "print(f'Mean of the data is: {mi:.2f}')\n",
        "\n",
        "variance = sum((x - mi)**2 for x in  expenses) / len(expenses)\n",
        "\n",
        "print(f'Variance of the data is: {variance:.2f}')\n",
        "\n",
        "standard_deviation = (variance)**(1/2)\n",
        "\n",
        "print(f'Standard deviation of the data is: {standard_deviation:.2f}')\n"
      ],
      "metadata": {
        "id": "lEur-TE6OXjm",
        "outputId": "2eaa5402-f050-4ae6-8d02-c823120e346a",
        "colab": {
          "base_uri": "https://localhost:8080/"
        }
      },
      "execution_count": null,
      "outputs": [
        {
          "output_type": "stream",
          "name": "stdout",
          "text": [
            "Mean of the data is: 191.67\n",
            "Variance of the data is: 513.89\n",
            "Standard deviation of the data is: 22.67\n"
          ]
        }
      ]
    },
    {
      "cell_type": "markdown",
      "source": [
        "### *Sample Standard Deviation ($s$)*"
      ],
      "metadata": {
        "id": "PNlOCVgdLRjj"
      }
    },
    {
      "cell_type": "markdown",
      "source": [
        "#####The **sample variance** and **sample standard deviation** measure the spread of data points in a sample. Since a sample is a subset of the population, the variance is divided by $n-1$ (degrees of freedom) to account for sampling bias.\n",
        "\n",
        "\n",
        "\n",
        "##### **Formulas:**\n",
        "\n",
        "1. **Sample Variance ($s^2$):**\n",
        "   $$\n",
        "   s^2 = \\frac{\\sum_{i=1}^n (x_i - \\bar{x})^2}{n - 1}\n",
        "   $$\n",
        "\n",
        "2. **Sample Standard Deviation ($s$):**\n",
        "   $$\n",
        "   s = \\sqrt{s^2} = \\sqrt{\\frac{\\sum_{i=1}^n (x_i - \\bar{x})^2}{n - 1}}\n",
        "   $$\n",
        "\n",
        "##### **Where:**\n",
        "- $x_i$: The $i$-th value in the sample,\n",
        "- $\\bar{x}$: Sample mean,\n",
        "- $n$: Total number of values in the sample.\n",
        "\n",
        "\n",
        "\n",
        "##### **Steps to Calculate:**\n",
        "\n",
        "1. Compute the sample mean ($\\bar{x}$):\n",
        "   $$\n",
        "   \\bar{x} = \\frac{\\sum_{i=1}^n x_i}{n}\n",
        "   $$\n",
        "2. Subtract the mean from each data point and square the result:\n",
        "   $$\n",
        "   (x_i - \\bar{x})^2\n",
        "   $$\n",
        "3. Compute the sample variance:\n",
        "   $$\n",
        "   s^2 = \\frac{\\sum_{i=1}^n (x_i - \\bar{x})^2}{n - 1}\n",
        "   $$\n",
        "4. Take the square root of the variance to find the standard deviation:\n",
        "   $$\n",
        "   s = \\sqrt{s^2}\n",
        "   $$\n",
        "\n",
        "\n",
        "##### **Example:**\n",
        "\n",
        "Consider the sample dataset: $[3, 5, 7, 9]$\n",
        "\n",
        "1. Calculate the sample mean:\n",
        "   $$\n",
        "   \\bar{x} = \\frac{3 + 5 + 7 + 9}{4} = 6\n",
        "   $$\n",
        "2. Compute squared deviations:\n",
        "   $$\n",
        "   (3 - 6)^2 = 9, \\quad (5 - 6)^2 = 1, \\quad (7 - 6)^2 = 1, \\quad (9 - 6)^2 = 9\n",
        "   $$\n",
        "3. Calculate variance:\n",
        "   $$\n",
        "   s^2 = \\frac{9 + 1 + 1 + 9}{4 - 1} = \\frac{20}{3} \\approx 6.67\n",
        "   $$\n",
        "4. Calculate standard deviation:\n",
        "   $$\n",
        "   s = \\sqrt{6.67} \\approx 2.58\n",
        "   $$\n"
      ],
      "metadata": {
        "id": "o80IuFiNLS9U"
      }
    },
    {
      "cell_type": "markdown",
      "source": [
        "#### excercise 3.2\n",
        "\n",
        "#####A researcher collected the heights (in cm) of a random sample of 5 students from a school. The measured heights are:  \n",
        "$$\n",
        "[160, 165, 170, 175, 180]\n",
        "$$  \n",
        "\n",
        "Calculate:  \n",
        "1. The sample mean ($\\bar{x}$).  \n",
        "2. The sample variance ($s^2$).  \n",
        "3. The sample standard deviation ($s$).  \n"
      ],
      "metadata": {
        "id": "UJqisxtmQQJW"
      }
    },
    {
      "cell_type": "code",
      "execution_count": null,
      "metadata": {
        "id": "iRJ62_SFKeTj",
        "outputId": "7801d57b-0235-4394-940f-559c03dbe2fa",
        "colab": {
          "base_uri": "https://localhost:8080/"
        }
      },
      "outputs": [
        {
          "output_type": "stream",
          "name": "stdout",
          "text": [
            "Mean of the data is: 170.00\n",
            "Variance of the data is: 62.50\n",
            "Standard deviation of the data is: 7.91\n"
          ]
        }
      ],
      "source": [
        "expenses = [160, 165, 170, 175, 180]\n",
        "\n",
        "mean = sum(expenses) / len(expenses)\n",
        "\n",
        "print(f'Mean of the data is: {mean:.2f}')\n",
        "\n",
        "variance = sum((x - mean)**2 for x in  expenses) / (len(expenses) - 1)\n",
        "\n",
        "print(f'Variance of the data is: {variance:.2f}')\n",
        "\n",
        "standard_deviation = (variance)**(1/2)\n",
        "\n",
        "print(f'Standard deviation of the data is: {standard_deviation:.2f}')\n"
      ]
    },
    {
      "cell_type": "markdown",
      "source": [
        "### *Normal Distribution*"
      ],
      "metadata": {
        "id": "JzIEibLFSN_v"
      }
    },
    {
      "cell_type": "markdown",
      "source": [
        "#####The **normal distribution** is a continuous probability distribution that is symmetrical and bell-shaped. It is one of the most important and widely used distributions in statistics, often referred to as the **Gaussian distribution**.\n",
        "\n",
        "\n",
        "##### **Key Characteristics:**\n",
        "\n",
        "1. **Symmetry**:  \n",
        "   The normal distribution is symmetric around its mean. This means that the data on the left side of the mean is a mirror image of the data on the right side.\n",
        "\n",
        "2. **Mean, Median, and Mode**:  \n",
        "   In a normal distribution, the mean, median, and mode are all equal and located at the center of the distribution.\n",
        "\n",
        "3. **Shape**:  \n",
        "   The distribution forms a bell-shaped curve where the highest point corresponds to the mean. The tails of the curve approach the horizontal axis but never touch it.\n",
        "\n",
        "4. **Spread**:  \n",
        "   The spread of the distribution is determined by the standard deviation ($\\sigma$). A larger standard deviation results in a wider curve, while a smaller standard deviation results in a narrower curve.\n",
        "\n",
        "\n",
        "##### **68-95-99.7 Rule**:  \n",
        "- About **68%** of the data falls within **one standard deviation** of the mean.  \n",
        "- About **95%** of the data falls within **two standard deviations** of the mean.  \n",
        "- About **99.7%** of the data falls within **three standard deviations** of the mean.\n",
        "\n",
        "\n",
        "##### **Standard Normal Distribution**:  \n",
        "When the mean ($\\mu$) is 0 and the standard deviation ($\\sigma$) is 1, the distribution is called the **standard normal distribution**. It is used to calculate probabilities and Z-scores, which express how far a data point is from the mean in terms of standard deviations.\n"
      ],
      "metadata": {
        "id": "1xUqG7kLSSOP"
      }
    },
    {
      "cell_type": "markdown",
      "source": [
        "###*Probability Density Function (PDF) in Normal Distribution*"
      ],
      "metadata": {
        "id": "Z5aytb5cYHDD"
      }
    },
    {
      "cell_type": "markdown",
      "source": [
        "#####The **Probability Density Function (PDF)** in the **Normal Distribution** describes the probability distribution of a continuous random variable that follows a normal (Gaussian) distribution. The normal distribution is one of the most widely used probability distributions in statistics, known for its characteristic bell-shaped curve.\n",
        "\n",
        "\n",
        "\n",
        "##### **Formula for the Normal Distribution PDF:**\n",
        "\n",
        "The PDF of a normal distribution is given by:\n",
        "\n",
        "$$\n",
        "f(x) = \\frac{1}{\\sigma \\sqrt{2\\pi}} e^{-\\frac{(x - \\mu)^2}{2\\sigma^2}}\n",
        "$$\n",
        "\n",
        "Where:\n",
        "- $x$ is the random variable,\n",
        "- $\\mu$ is the mean (average) of the distribution,\n",
        "- $\\sigma$ is the standard deviation,\n",
        "- $e$ is Euler's number (approximately 2.718),\n",
        "- $\\pi$ is the mathematical constant Pi (approximately 3.1416).\n",
        "\n",
        "This formula describes the probability density of a continuous random variable $x$ following a normal distribution. The shape of the curve is symmetric around the mean $\\mu$, with the highest point of the curve at $\\mu$.\n",
        "\n",
        "\n",
        "\n",
        "##### **Example:**\n",
        "\n",
        "#####For a normal distribution with $\\mu = 50$ and $\\sigma = 10$, the PDF at $x = 60$ would be:\n",
        "\n",
        "$$\n",
        "f(60) = \\frac{1}{10 \\sqrt{2\\pi}} e^{-\\frac{(60 - 50)^2}{2 \\cdot 10^2}} = \\frac{1}{10 \\sqrt{2\\pi}} e^{-0.5}\n",
        "$$\n",
        "\n",
        "#####This would give the probability density at that point. To find the actual probability, you would integrate this function over a range of values.\n",
        "\n"
      ],
      "metadata": {
        "id": "Cv94MminYQdy"
      }
    },
    {
      "cell_type": "markdown",
      "source": [
        "###*Cumulative Distribution Function (CDF) in Normal Distribution*"
      ],
      "metadata": {
        "id": "gTwNS_FeeIan"
      }
    },
    {
      "cell_type": "markdown",
      "source": [
        "#####The **Cumulative Distribution Function (CDF)** of a normal distribution provides the probability that a random variable $x$ takes a value less than or equal to a given value. The CDF gives the cumulative probability up to a certain point on the distribution.\n",
        "\n",
        "\n",
        "\n",
        "##### **Formula for the Normal Distribution CDF:**\n",
        "\n",
        "The CDF for a normal distribution is given by:\n",
        "\n",
        "$$\n",
        "F(x) = \\frac{1}{2} \\left[ 1 + \\text{erf}\\left( \\frac{x - \\mu}{\\sigma \\sqrt{2}} \\right) \\right]\n",
        "$$\n",
        "\n",
        "#####Where:\n",
        "- $F(x)$ is the cumulative probability that $x$ is less than or equal to a specific value,\n",
        "- $x$ is the random variable,\n",
        "- $\\mu$ is the mean (average) of the distribution,\n",
        "- $\\sigma$ is the standard deviation,\n",
        "- $\\text{erf}$ is the **error function**, which is a special mathematical function used to compute values related to the normal distribution.\n",
        "\n",
        "The CDF is an increasing function and ranges from 0 to 1. As $x$ moves farther away from the mean, the cumulative probability approaches 1 (for large values of $x$) or 0 (for small values of $x$).\n",
        "\n",
        "\n",
        "\n",
        "##### **Interpretation of the CDF:**\n",
        "\n",
        "- **$F(x)$** gives the probability that the random variable $x$ will take a value less than or equal to a specific value.\n",
        "- The CDF is useful for calculating the probability that a random variable falls within a particular range. For example, to calculate the probability that $x$ lies between two values $a$ and $b$, we can use:\n",
        "\n",
        "$$\n",
        "P(a \\leq x \\leq b) = F(b) - F(a)\n",
        "$$\n",
        "\n",
        "- The CDF starts at 0 for very low values of $x$ and approaches 1 as $x$ increases.\n",
        "- The **error function (erf)** is closely related to the standard normal distribution and is often used in calculations involving the CDF.\n",
        "\n",
        "\n",
        "\n",
        "##### **Example:**\n",
        "\n",
        "#####For a normal distribution with $\\mu = 50$ and $\\sigma = 10$, the CDF at $x = 60$ would be:\n",
        "\n",
        "$$\n",
        "F(60) = \\frac{1}{2} \\left[ 1 + \\text{erf}\\left( \\frac{60 - 50}{10 \\sqrt{2}} \\right) \\right]\n",
        "$$\n",
        "\n"
      ],
      "metadata": {
        "id": "fwgrKpabd7u1"
      }
    },
    {
      "cell_type": "markdown",
      "source": [
        "#### excercise 3.3\n",
        "\n",
        "#####You are given a normal distribution with the following parameters:\n",
        "- Mean ($\\mu$) = 29.23\n",
        "- Standard Deviation ($\\sigma$) = 1.37\n",
        "\n",
        "#####Write a Python program to compute the **Cumulative Distribution Function (CDF)** for the value $x = 29.23$.\n",
        "\n"
      ],
      "metadata": {
        "id": "Lno_uJNJgMjj"
      }
    },
    {
      "cell_type": "code",
      "source": [
        "from scipy.stats import norm\n",
        "\n",
        "mean = 29.23\n",
        "standard_deviation = 1.37\n",
        "\n",
        "x = norm.cdf(29.23, loc=mean, scale=standard_deviation)\n",
        "\n",
        "print(f'Value is equal to: {x}')"
      ],
      "metadata": {
        "id": "vcu4fEZ1fpLC",
        "outputId": "7be175dc-0d3a-4a6f-9667-ca5c2e144593",
        "colab": {
          "base_uri": "https://localhost:8080/"
        }
      },
      "execution_count": null,
      "outputs": [
        {
          "output_type": "stream",
          "name": "stdout",
          "text": [
            "Value is equal to: 0.5\n"
          ]
        }
      ]
    },
    {
      "cell_type": "markdown",
      "source": [
        "#### Exercise 3.4\n",
        "\n",
        "##### You are given a normal distribution with the following parameters:\n",
        "- Mean ($\\mu$) = 29.23\n",
        "- Standard Deviation ($\\sigma$) = 1.37\n",
        "\n",
        "##### Write a Python program to compute the **Cumulative Distribution Function (CDF)** for the range between $x = 28$ and $x = 30$.\n"
      ],
      "metadata": {
        "id": "zz_RfjxXhUT8"
      }
    },
    {
      "cell_type": "code",
      "source": [
        "mean = 29.23\n",
        "standard_deviation = 1.37\n",
        "\n",
        "x = norm.cdf(30, loc=mean, scale=standard_deviation) - norm.cdf(28, loc=mean, scale=standard_deviation)\n",
        "\n",
        "print(f'Value is equal to: {x}')"
      ],
      "metadata": {
        "id": "wx6tRk2jgleQ",
        "outputId": "9ef8a0fb-96d0-4326-8bc5-4687435add1f",
        "colab": {
          "base_uri": "https://localhost:8080/"
        }
      },
      "execution_count": null,
      "outputs": [
        {
          "output_type": "stream",
          "name": "stdout",
          "text": [
            "Value is equal to: 0.5283135419737843\n"
          ]
        }
      ]
    },
    {
      "cell_type": "markdown",
      "source": [
        "###Inverse Cumulative Distribution Function (Inverse CDF)"
      ],
      "metadata": {
        "id": "pRfCQTvnhsmU"
      }
    },
    {
      "cell_type": "markdown",
      "source": [
        "#####The **Inverse Cumulative Distribution Function** (also called the **Quantile Function**) is the reverse of the Cumulative Distribution Function (CDF). While the CDF gives the probability that a random variable is less than or equal to a specific value, the inverse CDF provides the value corresponding to a given cumulative probability.\n",
        "\n",
        "##### Definition:\n",
        "#####If $F(x)$ is the CDF of a random variable $X$, then the inverse CDF is:\n",
        "\n",
        "$$\n",
        "F^{-1}(p) = x \\quad \\text{such that} \\quad F(x) = p\n",
        "$$\n",
        "\n",
        "#####Where:\n",
        "- $F^{-1}(p)$ returns the value $x$ for a given probability $p$,\n",
        "- $p$ is the probability between 0 and 1.\n",
        "\n"
      ],
      "metadata": {
        "id": "Zdficrwdhp9q"
      }
    },
    {
      "cell_type": "markdown",
      "source": [
        "#### Exercise 3.4\n",
        "\n",
        "You are given a normal distribution with the following parameters:\n",
        "- Mean ($\\mu$) = 29.23\n",
        "- Standard Deviation ($\\sigma$) = 1.37\n",
        "\n",
        "##### Write a Python program to calculate the value corresponding to the **95th percentile** of the distribution using the **Inverse Cumulative Distribution Function (PPF)**.\n"
      ],
      "metadata": {
        "id": "VF_WUEEKkbVl"
      }
    },
    {
      "cell_type": "code",
      "source": [
        "x = norm.ppf(.95, loc=29.23, scale=1.37)\n",
        "\n",
        "print(f'Value is equal: {x:.2f}')"
      ],
      "metadata": {
        "id": "7elaq0ojjsYA",
        "outputId": "7b229a4e-3064-4597-9b8e-11fa734e332e",
        "colab": {
          "base_uri": "https://localhost:8080/"
        }
      },
      "execution_count": null,
      "outputs": [
        {
          "output_type": "stream",
          "name": "stdout",
          "text": [
            "Value is equal: 31.48\n"
          ]
        }
      ]
    },
    {
      "cell_type": "markdown",
      "source": [
        "###*Standardization (Z-Score Transformation)*"
      ],
      "metadata": {
        "id": "pLlffCUxk_Jc"
      }
    },
    {
      "cell_type": "markdown",
      "source": [
        "\n",
        "#####**Standardization** is the process of transforming data so that it has a mean of 0 and a standard deviation of 1. This is achieved by **scaling** the data relative to its own mean and standard deviation.\n",
        "\n",
        "#####The **Z-Score** is the most commonly used method for standardization. It represents how many standard deviations a particular value is away from the mean of the dataset.\n",
        "\n",
        "#### Z-Score Formula:\n",
        "For a given value $x$, the Z-score is calculated as:\n",
        "\n",
        "$$\n",
        "Z = \\frac{x - \\mu}{\\sigma}\n",
        "$$\n",
        "\n",
        "#####Where:\n",
        "- $x$ is the value you want to standardize,\n",
        "- $\\mu$ is the mean of the dataset,\n",
        "- $\\sigma$ is the standard deviation of the dataset.\n",
        "\n",
        "##### Interpretation:\n",
        "- A **Z-score of 0** means the value is equal to the mean.\n",
        "- A **Z-score greater than 0** means the value is above the mean.\n",
        "- A **Z-score less than 0** means the value is below the mean.\n",
        "\n",
        "##### Purpose of Standardization:\n",
        "- **Comparison across different datasets**: It allows comparison of data from different distributions, even if the scales or units are different.\n",
        "- **Outlier detection**: Helps in identifying outliers, as values with very high or very low Z-scores are considered outliers.\n",
        "- **Improving machine learning algorithms**: Many machine learning models (such as those using gradient descent) perform better when data is standardized, as the features are on the same scale.\n",
        "\n",
        "##### Example:\n",
        "Suppose we have a dataset with a mean ($\\mu$) of 50 and a standard deviation ($\\sigma$) of 10. If we want to standardize the value $x = 70$, the Z-score would be:\n",
        "\n",
        "$$\n",
        "Z = \\frac{70 - 50}{10} = 2\n",
        "$$\n",
        "\n",
        "This means that the value $x = 70$ is 2 standard deviations above the mean.\n"
      ],
      "metadata": {
        "id": "AUWegrdAlA7y"
      }
    },
    {
      "cell_type": "markdown",
      "source": [
        "###*Coefficient of Variation (CV)*"
      ],
      "metadata": {
        "id": "QTCglFvFnAoH"
      }
    },
    {
      "cell_type": "markdown",
      "source": [
        "#####The **Coefficient of Variation (CV)** is a measure of the relative variability of data in relation to its mean. It is a standardized measure of dispersion that allows for comparing variability between different datasets, even if they have different units or scales.\n",
        "\n",
        "##### Formula for Coefficient of Variation:\n",
        "\n",
        "$$\n",
        "CV = \\frac{\\sigma}{\\mu} \\times 100\n",
        "$$\n",
        "\n",
        "Where:\n",
        "- $\\sigma$ is the **standard deviation**,\n",
        "- $\\mu$ is the **mean** of the dataset.\n",
        "\n",
        "##### Interpretation:\n",
        "- **High CV**: Indicates a high level of variability relative to the mean. For example, a CV of 50% means that the standard deviation is half of the mean value.\n",
        "- **Low CV**: Indicates lower variability relative to the mean. For example, a CV of 5% means that the standard deviation is only 5% of the mean value.\n",
        "- **Comparison between datasets**: The Coefficient of Variation is particularly useful when comparing the variability between two datasets with different means. For example, when comparing two different investments, CV helps determine which one is riskier (i.e., has higher variability relative to the mean return).\n",
        "\n",
        "##### Example:\n",
        "If the average weight of dogs in a group is 25 kg, and the standard deviation is 5 kg, the Coefficient of Variation can be calculated as:\n",
        "\n",
        "$$\n",
        "CV = \\frac{5}{25} \\times 100 = 20\\%\n",
        "$$\n",
        "\n",
        "#####This means that the standard deviation of the dogs' weight is 20% of the average weight. Therefore, the weights of the dogs in this group are relatively variable compared to their average.\n"
      ],
      "metadata": {
        "id": "FcvAx18Hm3yf"
      }
    },
    {
      "cell_type": "code",
      "source": [],
      "metadata": {
        "id": "Ted9DktvlAS9"
      },
      "execution_count": null,
      "outputs": []
    },
    {
      "cell_type": "markdown",
      "source": [
        "### *Central Limit Theorem (CLT)*"
      ],
      "metadata": {
        "id": "Wx46vKQn2p8K"
      }
    },
    {
      "cell_type": "markdown",
      "source": [
        "#####The **Central Limit Theorem (CLT)** is a fundamental principle in statistics that describes the behavior of the sampling distribution of the sample mean. It states:\n",
        "\n",
        "##### Definition:\n",
        "As the sample size ($n$) increases, the distribution of the sample mean approaches a **normal distribution** (Gaussian distribution), regardless of the shape of the population distribution, provided the population has a finite mean ($\\mu$) and finite variance ($\\sigma^2$).\n",
        "\n",
        "##### Key Points:\n",
        "1. **Normality of the Sampling Distribution**:\n",
        "   - For sufficiently large sample sizes, the distribution of the sample mean ($\\bar{X}$) will be approximately normal, even if the population distribution is not normal.\n",
        "   \n",
        "2. **Mean of the Sampling Distribution**:\n",
        "   - The mean of the sampling distribution is equal to the population mean ($\\mu$).\n",
        "\n",
        "3. **Variance and Standard Error**:\n",
        "   - The standard deviation of the sampling distribution (called the **Standard Error** of the mean) is:\n",
        "     $$\n",
        "     \\text{Standard Error} = \\frac{\\sigma}{\\sqrt{n}}\n",
        "     $$\n",
        "   - This means that as the sample size increases, the spread of the sample mean decreases.\n",
        "\n",
        "4. **Applicability**:\n",
        "   - The CLT is particularly useful for inferential statistics, such as constructing confidence intervals and hypothesis testing.\n",
        "\n",
        "##### Why is the CLT Important?\n",
        "- The CLT allows us to make inferences about population parameters using sample statistics.\n",
        "- It justifies the use of normal distribution-based methods (e.g., $z$-tests and $t$-tests) for large samples, even if the underlying population distribution is unknown.\n",
        "\n",
        "##### Practical Implications:\n",
        "- If the sample size is **large enough** (commonly $n \\geq 30$ is used as a rule of thumb), the sampling distribution of the sample mean is approximately normal.\n",
        "- For smaller sample sizes, the shape of the population distribution becomes more important, and the CLT might not hold unless the population itself is normal.\n",
        "\n",
        "##### Example:\n",
        "Suppose the weight of apples in a population has a non-normal distribution with a mean ($\\mu$) of 150g and a standard deviation ($\\sigma$) of 20g. If we take a random sample of size $n = 40$:\n",
        "- The sampling distribution of the sample mean will be approximately normal.\n",
        "- The mean of the sampling distribution will be 150g.\n",
        "- The standard error of the mean will be:\n",
        "  $$\n",
        "  \\text{Standard Error} = \\frac{\\sigma}{\\sqrt{n}} = \\frac{20}{\\sqrt{40}} = 3.16\n",
        "  $$\n",
        "\n",
        "\n"
      ],
      "metadata": {
        "id": "-wf8pxuy22O-"
      }
    },
    {
      "cell_type": "markdown",
      "source": [
        "### *Confidence Intervals*"
      ],
      "metadata": {
        "id": "H1vNb6c67Iv6"
      }
    },
    {
      "cell_type": "markdown",
      "source": [
        "#####A **Confidence Interval (CI)** is a range of values, derived from a sample, that is likely to contain the true population parameter (e.g., mean or proportion) with a certain level of confidence.\n",
        "\n",
        "##### Key Concepts:\n",
        "\n",
        "1. **Confidence Level**:\n",
        "   - The confidence level indicates the percentage of times the calculated interval would contain the true population parameter if repeated samples were taken.\n",
        "   - Common confidence levels are **90%**, **95%**, and **99%**.\n",
        "\n",
        "2. **Structure of a Confidence Interval**:\n",
        "   - A confidence interval for the mean is typically expressed as:\n",
        "     $$\n",
        "     \\text{CI} = \\bar{x} \\pm Z \\cdot \\frac{\\sigma}{\\sqrt{n}}\n",
        "     $$\n",
        "     Where:\n",
        "     - $\\bar{x}$: Sample mean,\n",
        "     - $Z$: Z-score corresponding to the confidence level,\n",
        "     - $\\sigma$: Standard deviation of the population (or sample if $\\sigma$ is unknown),\n",
        "     - $n$: Sample size.\n",
        "\n",
        "3. **Interpretation**:\n",
        "   - A 95% confidence interval means that if we were to draw 100 different samples and calculate the confidence interval for each, approximately 95 of them would contain the true population mean.\n",
        "\n",
        "##### Example:\n",
        "Suppose the average weight of a sample of 50 apples is $150$g, with a standard deviation of $10$g. A 95% confidence interval can be calculated as follows:\n",
        "\n",
        "- Z-score for 95% confidence: $Z = 1.96$\n",
        "- Margin of error:\n",
        "  $$\n",
        "  \\text{Margin of Error} = Z \\cdot \\frac{\\sigma}{\\sqrt{n}} = 1.96 \\cdot \\frac{10}{\\sqrt{50}} = 2.77\n",
        "  $$\n",
        "- Confidence Interval:\n",
        "  $$\n",
        "  \\text{CI} = 150 \\pm 2.77 = (147.23, 152.77)\n",
        "  $$\n",
        "\n",
        "This means we are 95% confident that the true average weight of all apples lies between 147.23g and 152.77g.\n",
        "\n",
        "\n"
      ],
      "metadata": {
        "id": "RTZJaiCr7Lf6"
      }
    },
    {
      "cell_type": "code",
      "source": [
        "\n"
      ],
      "metadata": {
        "id": "JbI1JYOS7Rgo",
        "outputId": "ce8e4a3b-e78a-4b79-cb42-e5d6239042aa",
        "colab": {
          "base_uri": "https://localhost:8080/"
        }
      },
      "execution_count": 4,
      "outputs": [
        {
          "output_type": "stream",
          "name": "stdout",
          "text": [
            "95% Confidence Interval: (147.23, 152.77)\n"
          ]
        }
      ]
    },
    {
      "cell_type": "markdown",
      "source": [
        "### *p-Value*"
      ],
      "metadata": {
        "id": "MOgZcFAj9lLX"
      }
    },
    {
      "cell_type": "markdown",
      "source": [
        "#####The **p-value** is a statistical measure that helps determine the significance of a result in hypothesis testing. It quantifies the probability of obtaining a result at least as extreme as the observed one, assuming that the null hypothesis ($H_0$) is true.\n",
        "\n",
        "\n",
        "#####Key Concepts:\n",
        "\n",
        "1. **Hypothesis Testing**:\n",
        "   - **Null Hypothesis ($H_0$)**: The default assumption, e.g., \"there is no effect\" or \"two groups are equal.\"\n",
        "   - **Alternative Hypothesis ($H_a$)**: The claim being tested, e.g., \"there is an effect\" or \"the groups are different.\"\n",
        "\n",
        "2. **Interpretation of p-Value**:\n",
        "   - A **small p-value** (e.g., $p < 0.05$) suggests that the observed data is unlikely under the null hypothesis, providing evidence to reject $H_0$.\n",
        "   - A **large p-value** (e.g., $p > 0.05$) indicates insufficient evidence to reject $H_0$.\n",
        "\n",
        "3. **Common Significance Levels**:\n",
        "   - The threshold (denoted as $\\alpha$) for determining significance is often set at **0.05** (5%).\n",
        "     - If $p \\leq \\alpha$, reject $H_0$.\n",
        "     - If $p > \\alpha$, fail to reject $H_0$.\n",
        "\n",
        "\n",
        "##### Example:\n",
        "Suppose we are testing whether a coin is fair:\n",
        "- Null Hypothesis ($H_0$): The coin is fair (50% chance of heads).\n",
        "- Alternative Hypothesis ($H_a$): The coin is biased (not 50% chance of heads).\n",
        "\n",
        "If we observe heads 90 times out of 100 flips, we calculate the p-value to assess whether this outcome is likely under $H_0$. A small p-value (e.g., $p = 0.002$) would suggest the coin is biased.\n",
        "\n",
        "\n",
        "##### p-Value vs. Confidence Interval:\n",
        "- A **confidence interval** provides a range of plausible values for a population parameter.\n",
        "- A **p-value** evaluates whether the observed data is consistent with the null hypothesis.\n",
        "\n"
      ],
      "metadata": {
        "id": "rnxS8uML9nFz"
      }
    }
  ]
}