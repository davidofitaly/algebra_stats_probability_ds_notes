{
  "nbformat": 4,
  "nbformat_minor": 0,
  "metadata": {
    "colab": {
      "provenance": [],
      "authorship_tag": "ABX9TyM2H0vyZ27soQWiN8G/htpB",
      "include_colab_link": true
    },
    "kernelspec": {
      "name": "python3",
      "display_name": "Python 3"
    },
    "language_info": {
      "name": "python"
    }
  },
  "cells": [
    {
      "cell_type": "markdown",
      "metadata": {
        "id": "view-in-github",
        "colab_type": "text"
      },
      "source": [
        "<a href=\"https://colab.research.google.com/github/davidofitaly/algebra_stats_probability_ds_notes/blob/main/03_descriptive_inferential_statistics.ipynb\" target=\"_parent\"><img src=\"https://colab.research.google.com/assets/colab-badge.svg\" alt=\"Open In Colab\"/></a>"
      ]
    },
    {
      "cell_type": "markdown",
      "source": [
        "###*Mean and Weighted Mean*"
      ],
      "metadata": {
        "id": "-daZ0GK1dIjM"
      }
    },
    {
      "cell_type": "markdown",
      "source": [
        "#####The **mean** and **weighted mean** are fundamental concepts in statistics, used to measure the central tendency of a dataset. This includes distinctions between **sample mean** and **population mean**.\n",
        "\n",
        "\n",
        "\n",
        "##### **Arithmetic Mean:**\n",
        "\n",
        "#####The **mean** (or **arithmetic mean**) represents the average value of a dataset. It can be calculated for either a **population** or a **sample**.\n",
        "\n",
        "\n",
        "##### **Population Mean ($\\mu$):**\n",
        "\n",
        "#####The **population mean** is the average of all values in an entire population. It is a fixed value.\n",
        "\n",
        "##### **Formula:**\n",
        "$$\n",
        "\\mu = \\frac{\\sum_{i=1}^N x_i}{N}\n",
        "$$\n",
        "\n",
        "##### **Where:**\n",
        "- $x_i$: The $i$-th value in the population,\n",
        "- $N$: Total number of values in the population.\n",
        "\n",
        "##### **Sample Mean ($\\bar{x}$):**\n",
        "\n",
        "#####The **sample mean** is the average of values in a sample, which is a subset of the population. It is used to estimate the population mean.\n",
        "\n",
        "##### **Formula:**\n",
        "$$\n",
        "\\bar{x} = \\frac{\\sum_{i=1}^n x_i}{n}\n",
        "$$\n",
        "\n",
        "##### **Where:**\n",
        "- $x_i$: The $i$-th value in the sample,\n",
        "- $n$: Total number of values in the sample.\n",
        "\n",
        "##### **Example (Population and Sample):**\n",
        "\n",
        "Given the population $[3, 5, 7, 9]$:\n",
        "$$\n",
        "\\mu = \\frac{3 + 5 + 7 + 9}{4} = \\frac{24}{4} = 6\n",
        "$$\n",
        "\n",
        "For a sample $[3, 9]$ taken from the population:\n",
        "$$\n",
        "\\bar{x} = \\frac{3 + 9}{2} = \\frac{12}{2} = 6\n",
        "$$\n",
        "\n",
        "\n",
        "##### **Weighted Mean:**\n",
        "\n",
        "The **weighted mean** accounts for the importance (or weight) of each value, whether in a population or sample.\n",
        "\n",
        "##### **Formula:**\n",
        "$$\n",
        "\\text{Weighted Mean (} \\mu_w \\text{ or } \\bar{x}_w \\text{)} = \\frac{\\sum_{i=1}^n w_i x_i}{\\sum_{i=1}^n w_i}\n",
        "$$\n",
        "\n",
        "##### **Where:**\n",
        "- $x_i$: The $i$-th value,\n",
        "- $w_i$: The weight associated with $x_i$,\n",
        "- $\\sum_{i=1}^n w_i$: The total of all weights.\n",
        "\n",
        "##### **Example (Weighted Mean):**\n",
        "\n",
        "Given values $[10, 20, 30]$ with weights $[1, 2, 3]$:\n",
        "$$\n",
        "\\mu_w = \\frac{1 \\cdot 10 + 2 \\cdot 20 + 3 \\cdot 30}{1 + 2 + 3}\n",
        "= \\frac{10 + 40 + 90}{6}\n",
        "= \\frac{140}{6} = 23.33\n",
        "$$\n",
        "\n",
        "\n",
        "##### **Key Distinctions:**\n",
        "\n",
        "1. **Population Mean ($\\mu$):**\n",
        "   - Considers all values in the population,\n",
        "   - Fixed and unchanging.\n",
        "\n",
        "2. **Sample Mean ($\\bar{x}$):**\n",
        "   - Uses only a subset of the population,\n",
        "   - May vary between samples and is used to estimate $\\mu$.\n",
        "\n",
        "3. **Weighted Mean ($\\mu_w$ or $\\bar{x}_w$):**\n",
        "   - Adjusts for the relative importance of values,\n",
        "   - Useful in scenarios where some data points carry more significance.\n"
      ],
      "metadata": {
        "id": "fhE5se2Sdspr"
      }
    },
    {
      "cell_type": "markdown",
      "source": [
        "### *Median*"
      ],
      "metadata": {
        "id": "otdFvD9Eg0SP"
      }
    },
    {
      "cell_type": "markdown",
      "source": [
        "#####The **median** is a measure of central tendency that represents the middle value in a dataset when the values are arranged in ascending or descending order. Unlike the mean, the median is not influenced by extreme values or outliers.\n",
        "\n",
        "\n",
        "\n",
        "##### **Key Characteristics:**\n",
        "\n",
        "1. **Order Matters:**  \n",
        "   To determine the median, the data must first be arranged in order (ascending or descending).\n",
        "\n",
        "2. **Robustness:**  \n",
        "   The median is resistant to extreme values, making it ideal for skewed datasets.\n",
        "\n",
        "3. **Applicability:**  \n",
        "   The median can be calculated for both populations and samples.\n",
        "\n",
        "\n",
        "\n",
        "##### **Calculating the Median:**\n",
        "\n",
        "1. **For Odd Number of Observations ($n$):**  \n",
        "   The median is the value at the middle position:\n",
        "   $$\n",
        "   \\text{Median} = x_{\\frac{n+1}{2}}\n",
        "   $$\n",
        "\n",
        "2. **For Even Number of Observations ($n$):**  \n",
        "   The median is the average of the two middle values:\n",
        "   $$\n",
        "   \\text{Median} = \\frac{x_{\\frac{n}{2}} + x_{\\frac{n}{2} + 1}}{2}\n",
        "   $$\n",
        "\n",
        "\n",
        "##### **Example:**\n",
        "\n",
        "**Dataset 1 (Odd Number of Values):**  \n",
        "$[3, 5, 7, 9, 11]$  \n",
        "- Arrange in ascending order: $[3, 5, 7, 9, 11]$  \n",
        "- Middle position: $7$ (3rd value)  \n",
        "$$\n",
        "\\text{Median} = 7\n",
        "$$\n",
        "\n",
        "**Dataset 2 (Even Number of Values):**  \n",
        "$[2, 4, 6, 8, 10, 12]$  \n",
        "- Arrange in ascending order: $[2, 4, 6, 8, 10, 12]$  \n",
        "- Middle values: $6$ and $8$  \n",
        "$$\n",
        "\\text{Median} = \\frac{6 + 8}{2} = 7\n",
        "$$\n",
        "\n",
        "\n",
        "\n",
        "##### **Median vs. Mean:**\n",
        "\n",
        "1. **Sensitivity to Outliers:**  \n",
        "   - The **mean** is affected by extreme values, while the **median** is not.\n",
        "\n",
        "2. **Use Cases:**  \n",
        "   - The **median** is preferred for skewed datasets (e.g., income, house prices).\n",
        "   - The **mean** is used for symmetrical datasets with no outliers.\n"
      ],
      "metadata": {
        "id": "eQMJKLaOg4OY"
      }
    },
    {
      "cell_type": "markdown",
      "source": [
        "###*Mode*\n"
      ],
      "metadata": {
        "id": "6usL4bpqjFd4"
      }
    },
    {
      "cell_type": "markdown",
      "source": [
        "#####The **mode** (dominanta) is a measure of central tendency that identifies the most frequently occurring value(s) in a dataset. It is especially useful for categorical or discrete data and can be applied to both populations and samples.\n",
        "\n",
        "\n",
        "\n",
        "##### **Key Characteristics:**\n",
        "\n",
        "1. **Frequency-Based:**  \n",
        "   The mode is the value(s) that appear most often in the dataset.\n",
        "\n",
        "2. **Applicability:**  \n",
        "   - For numerical data: Finds the most common value.  \n",
        "   - For categorical data: Identifies the most frequent category.\n",
        "\n",
        "3. **Types of Datasets:**  \n",
        "   - A dataset can have:\n",
        "     - **No mode:** If all values occur with the same frequency.  \n",
        "     - **One mode (Unimodal):** If a single value dominates.  \n",
        "     - **Two modes (Bimodal):** If two values have the highest frequency.  \n",
        "     - **Multiple modes (Multimodal):** If more than two values share the highest frequency.\n",
        "\n",
        "\n",
        "\n",
        "##### **Calculating the Mode:**\n",
        "\n",
        "1. Arrange the data (optional, but helpful for clarity).  \n",
        "2. Count the frequency of each value.  \n",
        "3. Identify the value(s) with the highest frequency.\n",
        "\n",
        "\n",
        "\n",
        "##### **Example 1 (Numerical Data):**  \n",
        "Dataset: $[2, 4, 4, 6, 6, 6, 8, 10]$  \n",
        "- Frequency:  \n",
        "  $2 \\rightarrow 1$, $4 \\rightarrow 2$, $6 \\rightarrow 3$, $8 \\rightarrow 1$, $10 \\rightarrow 1$  \n",
        "- **Mode:** $6$ (appears 3 times)\n",
        "\n",
        "\n",
        "\n",
        "##### **Example 2 (Categorical Data):**  \n",
        "Dataset: $[\\text{Red}, \\text{Blue}, \\text{Red}, \\text{Green}, \\text{Blue}, \\text{Blue}]$  \n",
        "- Frequency:  \n",
        "  $\\text{Red} \\rightarrow 2$, $\\text{Blue} \\rightarrow 3$, $\\text{Green} \\rightarrow 1$  \n",
        "- **Mode:** $\\text{Blue}$ (appears 3 times)\n",
        "\n",
        "\n",
        "\n",
        "##### **Mode vs. Mean and Median:**\n",
        "\n",
        "1. **Dataset Type:**  \n",
        "   - The **mode** is ideal for categorical data.  \n",
        "   - The **mean** and **median** are better for numerical data.\n",
        "\n",
        "2. **Skewed Data:**  \n",
        "   - The **mode** provides a quick insight into the most typical value, especially in skewed distributions.\n",
        "\n",
        "3. **Multiple Values:**  \n",
        "   - The mode can represent multiple values, unlike the mean or median, which are unique.\n",
        "\n"
      ],
      "metadata": {
        "id": "pdpbTzQSjBJp"
      }
    },
    {
      "cell_type": "code",
      "execution_count": null,
      "metadata": {
        "id": "iRJ62_SFKeTj"
      },
      "outputs": [],
      "source": []
    }
  ]
}