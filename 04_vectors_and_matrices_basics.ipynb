{
  "nbformat": 4,
  "nbformat_minor": 0,
  "metadata": {
    "colab": {
      "provenance": [],
      "collapsed_sections": [
        "jziYn6b0WR2H",
        "5_oykLFMYikh",
        "NN7rWLhKblLG",
        "oS2A1ds6hTyX",
        "Tz3re5Galg0X",
        "T93eH7HzuyJ5",
        "5jQQYmmG5RMx",
        "SysP24xX9Ird",
        "auVmF1Q-B2tU"
      ],
      "authorship_tag": "ABX9TyNYHh6ZgwA/lUXs3iVLtrV1",
      "include_colab_link": true
    },
    "kernelspec": {
      "name": "python3",
      "display_name": "Python 3"
    },
    "language_info": {
      "name": "python"
    }
  },
  "cells": [
    {
      "cell_type": "markdown",
      "metadata": {
        "id": "view-in-github",
        "colab_type": "text"
      },
      "source": [
        "<a href=\"https://colab.research.google.com/github/davidofitaly/algebra_stats_probability_ds_notes/blob/main/04_vectors_and_matrices_basics.ipynb\" target=\"_parent\"><img src=\"https://colab.research.google.com/assets/colab-badge.svg\" alt=\"Open In Colab\"/></a>"
      ]
    },
    {
      "cell_type": "markdown",
      "source": [
        "### Table of contents:\n",
        "1. [Import of libraries](#0)\n",
        "2. [Introduction to Vectors](#1)\n",
        "3. [Adding Vectors](#2)\n",
        "4. [Scaling Vectors](#3)\n",
        "5. [Linear Dependence and Span](#4)\n",
        "6. [Basis Vectors](#5)\n",
        "7. [Matrix-Vector Multiplication](#6)\n",
        "8. [Matrix Multiplication](#7)\n",
        "9. [Determinants of Matrices](#8)\n",
        "10. [Special Types of Matrices](#9)\n",
        "11. [Solving Systems of Linear Equations Using Matrices](#10)\n",
        "12. [Eigenvectors and Eigenvalues](#11)\n",
        "\n"
      ],
      "metadata": {
        "id": "kx8IifK95iB4"
      }
    },
    {
      "cell_type": "markdown",
      "source": [
        "###<a name='0'></a>*Import of libraries*"
      ],
      "metadata": {
        "id": "7mo-c1PZ5jBd"
      }
    },
    {
      "cell_type": "code",
      "source": [
        "import numpy as np\n",
        "from numpy.linalg import inv"
      ],
      "metadata": {
        "id": "N7o289HHXL6T"
      },
      "execution_count": 1,
      "outputs": []
    },
    {
      "cell_type": "markdown",
      "source": [
        "###<a name='1'></a>*Introduction to Vectors*"
      ],
      "metadata": {
        "id": "jziYn6b0WR2H"
      }
    },
    {
      "cell_type": "markdown",
      "source": [
        "#####A **vector** is a mathematical object that has both **magnitude** (size) and **direction**. Vectors are widely used in various fields such as physics, engineering, computer graphics, and machine learning to represent quantities like force, velocity, and position.\n",
        "\n",
        "##### Key Characteristics:\n",
        "1. **Magnitude**: The length or size of the vector, often represented as $| \\mathbf{v} |$.\n",
        "2. **Direction**: Indicates where the vector points in space.\n",
        "\n",
        "##### Representation:\n",
        "- **Graphically**: Vectors are represented as arrows. The length of the arrow corresponds to the magnitude, and the orientation shows the direction.\n",
        "- **Mathematically**: Vectors are expressed as ordered sets of numbers:\n",
        "  - In 2D: $\\mathbf{v} = (v_x, v_y)$\n",
        "  - In 3D: $\\mathbf{v} = (v_x, v_y, v_z)$\n",
        "\n",
        "##### Applications:\n",
        "- Representing physical quantities like force, velocity, and acceleration.\n",
        "- Describing points and directions in space.\n",
        "- Transformations in computer graphics and image processing.\n",
        "\n",
        "##### Example:\n",
        "A vector $\\mathbf{v} = (3, 4)$ in 2D represents a quantity that moves 3 units along the $x$-axis and 4 units along the $y$-axis.\n"
      ],
      "metadata": {
        "id": "H3oHpCZuWGIK"
      }
    },
    {
      "cell_type": "markdown",
      "source": [
        "####excercise 4.1\n",
        "\n",
        "##### Create a Python program to define a vector $\\mathbf{v}$ with the components $[4, 6]$ using NumPy and print its value.\n"
      ],
      "metadata": {
        "id": "HUnc6dJRXbsJ"
      }
    },
    {
      "cell_type": "code",
      "execution_count": 2,
      "metadata": {
        "colab": {
          "base_uri": "https://localhost:8080/"
        },
        "id": "uX-sX3vBVu5J",
        "outputId": "3ae0a939-a849-4b33-cff5-7b11ade1536e"
      },
      "outputs": [
        {
          "output_type": "stream",
          "name": "stdout",
          "text": [
            "[4 6]\n"
          ]
        }
      ],
      "source": [
        "v = np.array([4,6])\n",
        "\n",
        "print(v)"
      ]
    },
    {
      "cell_type": "markdown",
      "source": [
        "####excercise 4.2\n",
        "\n",
        "##### Create a Python program to define a vector $\\mathbf{v}$ with the components $[2, 9, 6]$ using NumPy and print its value.\n",
        "\n"
      ],
      "metadata": {
        "id": "FbBAPkB_XkOa"
      }
    },
    {
      "cell_type": "code",
      "source": [
        "v = np.array([2, 9, 6])\n",
        "\n",
        "print(v)"
      ],
      "metadata": {
        "colab": {
          "base_uri": "https://localhost:8080/"
        },
        "id": "_c6wb7yHXpSM",
        "outputId": "e16bb536-b290-4921-a74f-e969e34a4fd4"
      },
      "execution_count": 3,
      "outputs": [
        {
          "output_type": "stream",
          "name": "stdout",
          "text": [
            "[2 9 6]\n"
          ]
        }
      ]
    },
    {
      "cell_type": "markdown",
      "source": [
        "###<a name='2'></a>*Adding Vectors*"
      ],
      "metadata": {
        "id": "5_oykLFMYikh"
      }
    },
    {
      "cell_type": "markdown",
      "source": [
        "#####Vector addition is a mathematical operation where two or more vectors are combined to produce a resultant vector. This operation is fundamental in fields like physics and computer graphics for combining quantities with magnitude and direction.\n",
        "\n",
        "##### Key Principle:\n",
        "To add two vectors, add their corresponding components.\n",
        "\n",
        "##### Mathematical Representation:\n",
        "For two vectors $\\mathbf{u} = (u_x, u_y)$ and $\\mathbf{v} = (v_x, v_y)$, their sum $\\mathbf{w} = \\mathbf{u} + \\mathbf{v}$ is:\n",
        "$$\n",
        "\\mathbf{w} = (u_x + v_x, u_y + v_y)\n",
        "$$\n",
        "\n",
        "##### Graphical Interpretation:\n",
        "When adding vectors graphically:\n",
        "1. Place the tail of the second vector at the head of the first vector.\n",
        "2. The resultant vector is the arrow from the tail of the first vector to the head of the second vector.\n",
        "\n",
        "##### Example:\n",
        "If $\\mathbf{u} = (3, 4)$ and $\\mathbf{v} = (1, 2)$:\n",
        "$$\n",
        "\\mathbf{u} + \\mathbf{v} = (3 + 1, 4 + 2) = (4, 6)\n",
        "$$\n",
        "\n"
      ],
      "metadata": {
        "id": "vrXcgLGbYfYE"
      }
    },
    {
      "cell_type": "markdown",
      "source": [
        "#### excercise 4.3\n",
        "\n",
        "##### Define two vectors $\\mathbf{v}$ and $\\mathbf{w}$ with the components $[-1, 5]$ and $[8, 4]$, respectively. Add the vectors and determine the resultant vector.\n"
      ],
      "metadata": {
        "id": "eQzjvtLqZoz-"
      }
    },
    {
      "cell_type": "code",
      "source": [
        "v = np.array([-1, 5])\n",
        "w = np.array([8,4])\n",
        "\n",
        "vw = v + w\n",
        "\n",
        "print(vw)"
      ],
      "metadata": {
        "colab": {
          "base_uri": "https://localhost:8080/"
        },
        "id": "AfbQ_l56ZQXe",
        "outputId": "02846b03-e869-45a1-bc82-bae1f4017cf5"
      },
      "execution_count": 4,
      "outputs": [
        {
          "output_type": "stream",
          "name": "stdout",
          "text": [
            "[7 9]\n"
          ]
        }
      ]
    },
    {
      "cell_type": "markdown",
      "source": [
        "#### excercise 4.4\n",
        "\n",
        "##### Define two vectors $\\mathbf{v}$ and $\\mathbf{w}$ with the components $[2, 0, 5]$ and $[6, -2, 7]$, respectively. Add the vectors and determine the resultant vector.\n",
        "\n"
      ],
      "metadata": {
        "id": "kozMy9ytZ_j0"
      }
    },
    {
      "cell_type": "code",
      "source": [
        "v = np.array([2, 0, 5])\n",
        "w = np.array([6,-2, 7])\n",
        "\n",
        "vw = v + w\n",
        "\n",
        "print(vw)\n"
      ],
      "metadata": {
        "colab": {
          "base_uri": "https://localhost:8080/"
        },
        "id": "x6DJe93KZxRo",
        "outputId": "5dd441ea-93ec-448d-f726-0366e8c48084"
      },
      "execution_count": 5,
      "outputs": [
        {
          "output_type": "stream",
          "name": "stdout",
          "text": [
            "[ 8 -2 12]\n"
          ]
        }
      ]
    },
    {
      "cell_type": "markdown",
      "source": [
        "###<a name='3'></a>*Scaling Vectors*"
      ],
      "metadata": {
        "id": "NN7rWLhKblLG"
      }
    },
    {
      "cell_type": "markdown",
      "source": [
        "#####**Scaling a vector** involves multiplying the vector by a scalar (a single number). This operation changes the magnitude of the vector while keeping its direction the same (if the scalar is positive) or reversing it (if the scalar is negative).\n",
        "\n",
        "##### Key Principle:\n",
        "Given a vector $\\mathbf{v} = (v_x, v_y)$ and a scalar $k$, the scaled vector is:\n",
        "$$\n",
        "k \\cdot \\mathbf{v} = (k \\cdot v_x, k \\cdot v_y)\n",
        "$$\n",
        "\n",
        "##### Effects of Scaling:\n",
        "1. If $|k| > 1$: The vector's magnitude increases.\n",
        "2. If $0 < |k| < 1$: The vector's magnitude decreases.\n",
        "3. If $k = 0$: The vector becomes a zero vector.\n",
        "4. If $k < 0$: The vector's direction reverses.\n",
        "\n",
        "##### Example:\n",
        "Let $\\mathbf{v} = (3, 4)$ and $k = 2$:\n",
        "$$\n",
        "2 \\cdot \\mathbf{v} = (2 \\cdot 3, 2 \\cdot 4) = (6, 8)\n",
        "$$\n",
        "\n"
      ],
      "metadata": {
        "id": "SNKP4W9TbhW9"
      }
    },
    {
      "cell_type": "markdown",
      "source": [
        "#### excercise 4.5\n",
        "\n",
        "##### Define a vector $\\mathbf{v}$ with the components $[4, 3]$ and a scalar $k = 2$. Scale the vector by multiplying it with the scalar and determine the resultant vector.\n"
      ],
      "metadata": {
        "id": "dhW1FdrLerLP"
      }
    },
    {
      "cell_type": "code",
      "source": [
        "v = np.array([4,3])\n",
        "k = 2\n",
        "\n",
        "vk = k *v\n",
        "\n",
        "print(vk)"
      ],
      "metadata": {
        "colab": {
          "base_uri": "https://localhost:8080/"
        },
        "id": "BSt0hFD2eSR1",
        "outputId": "e1943343-4533-4cb6-8a30-76f26bda45e2"
      },
      "execution_count": 6,
      "outputs": [
        {
          "output_type": "stream",
          "name": "stdout",
          "text": [
            "[8 6]\n"
          ]
        }
      ]
    },
    {
      "cell_type": "markdown",
      "source": [
        "#### excercise 4.6\n",
        "\n",
        "##### Define a vector $\\mathbf{v}$ with the components $[9, -2]$ and a scalar $k = -0.5$. Scale the vector by multiplying it with the scalar and determine the resultant vector.\n"
      ],
      "metadata": {
        "id": "vPI6RvhGeziQ"
      }
    },
    {
      "cell_type": "code",
      "source": [
        "v = np.array([9,-2])\n",
        "k = -0.5\n",
        "\n",
        "vk = k * v\n",
        "\n",
        "print(vk)"
      ],
      "metadata": {
        "colab": {
          "base_uri": "https://localhost:8080/"
        },
        "id": "CYHNNmlleYCS",
        "outputId": "6d36a9bf-dd2e-484c-c8f9-377138b30d91"
      },
      "execution_count": 7,
      "outputs": [
        {
          "output_type": "stream",
          "name": "stdout",
          "text": [
            "[-4.5  1. ]\n"
          ]
        }
      ]
    },
    {
      "cell_type": "markdown",
      "source": [
        "###<a name='4'></a>*Linear Dependence and Span*"
      ],
      "metadata": {
        "id": "oS2A1ds6hTyX"
      }
    },
    {
      "cell_type": "markdown",
      "source": [
        "#####In linear algebra, **linear dependence** and **span** are fundamental concepts that describe the relationships between vectors in a vector space.\n",
        "\n",
        "##### 1. Linear Dependence:\n",
        "A set of vectors is said to be **linearly dependent** if at least one of the vectors in the set can be expressed as a linear combination of the others. In simpler terms, if a vector in the set can be written as a weighted sum of the other vectors, the set is linearly dependent.\n",
        "\n",
        "- **Mathematically**, if you have vectors $\\mathbf{v_1}, \\mathbf{v_2}, ..., \\mathbf{v_n}$, they are linearly dependent if there exist scalars $c_1, c_2, ..., c_n$, not all zero, such that:\n",
        "  $$\n",
        "  c_1 \\cdot \\mathbf{v_1} + c_2 \\cdot \\mathbf{v_2} + \\cdots + c_n \\cdot \\mathbf{v_n} = \\mathbf{0}\n",
        "  $$\n",
        "\n",
        "- **Example**: If you have two vectors $\\mathbf{v_1} = (2, 4)$ and $\\mathbf{v_2} = (1, 2)$, $\\mathbf{v_2}$ is a scalar multiple of $\\mathbf{v_1}$, and the set is linearly dependent.\n",
        "\n",
        "##### 2. Linear Independence:\n",
        "A set of vectors is **linearly independent** if no vector in the set can be written as a linear combination of the others. In other words, no vector is redundant in describing the span of the set.\n",
        "\n",
        "- **Example**: If you have vectors $\\mathbf{v_1} = (1, 0)$ and $\\mathbf{v_2} = (0, 1)$, these vectors are linearly independent because neither vector can be expressed as a scalar multiple of the other.\n",
        "\n",
        "##### 3. Span:\n",
        "The **span** of a set of vectors is the set of all possible linear combinations of those vectors. The span represents all the points that can be reached by scaling and adding the original vectors.\n",
        "\n",
        "- **Example**: The span of two vectors $\\mathbf{v_1} = (1, 0)$ and $\\mathbf{v_2} = (0, 1)$ is the entire 2D plane, because any point in the plane can be expressed as a linear combination of $\\mathbf{v_1}$ and $\\mathbf{v_2}$.\n"
      ],
      "metadata": {
        "id": "Pt1kevfwhRw3"
      }
    },
    {
      "cell_type": "markdown",
      "source": [
        "###<a name='5'></a>*Basis Vectors*"
      ],
      "metadata": {
        "id": "Tz3re5Galg0X"
      }
    },
    {
      "cell_type": "markdown",
      "source": [
        "#####**Basis vectors** are a set of linearly independent vectors that define a vector space. Any vector in the space can be expressed as a unique linear combination of the basis vectors. These vectors serve as the \"building blocks\" of the space and allow us to describe all other vectors within that space.\n",
        "\n",
        "##### Key Properties:\n",
        "1. **Linear Independence**: The basis vectors must be linearly independent, meaning no vector in the set can be written as a linear combination of the others.\n",
        "2. **Spanning**: The set of basis vectors must span the entire vector space, meaning any vector in the space can be expressed as a combination of these basis vectors.\n",
        "\n",
        "##### Example:\n",
        "In a 2D Cartesian coordinate system, the standard basis vectors are:\n",
        "- $\\mathbf{e_1} = (1, 0)$\n",
        "- $\\mathbf{e_2} = (0, 1)$\n",
        "\n",
        "These two vectors are linearly independent and span the entire 2D plane. Any vector $\\mathbf{v} = (x, y)$ in this plane can be written as:\n",
        "$$\n",
        "\\mathbf{v} = x \\cdot \\mathbf{e_1} + y \\cdot \\mathbf{e_2}\n",
        "$$\n",
        "\n",
        "##### Generalization:\n",
        "In an $n$-dimensional space, the basis consists of $n$ linearly independent vectors. For instance, in a 3D space, the standard basis vectors are:\n",
        "- $\\mathbf{e_1} = (1, 0, 0)$\n",
        "- $\\mathbf{e_2} = (0, 1, 0)$\n",
        "- $\\mathbf{e_3} = (0, 0, 1)$\n",
        "\n"
      ],
      "metadata": {
        "id": "-q2c7JdRljp8"
      }
    },
    {
      "cell_type": "markdown",
      "source": [
        "###<a name='6'></a>*Matrix-Vector Multiplication*"
      ],
      "metadata": {
        "id": "T93eH7HzuyJ5"
      }
    },
    {
      "cell_type": "markdown",
      "source": [
        "#####**Matrix-vector multiplication** is an operation where a matrix is multiplied by a vector. The result of this operation is a new vector. This operation is fundamental in many areas such as linear algebra, computer graphics, and systems of equations.\n",
        "\n",
        "##### Key Concept:\n",
        "Given a matrix $\\mathbf{A}$ of size $m \\times n$ and a vector $\\mathbf{v}$ of size $n$, the matrix-vector product is a new vector $\\mathbf{w}$ of size $m$. The product is computed by multiplying each row of the matrix by the vector and summing the results.\n",
        "\n",
        "Mathematically, if:\n",
        "$$\n",
        "\\mathbf{A} =\n",
        "\\begin{pmatrix}\n",
        "a_{11} & a_{12} & \\dots & a_{1n} \\\\\n",
        "a_{21} & a_{22} & \\dots & a_{2n} \\\\\n",
        "\\vdots & \\vdots & \\ddots & \\vdots \\\\\n",
        "a_{m1} & a_{m2} & \\dots & a_{mn}\n",
        "\\end{pmatrix}, \\quad \\mathbf{v} =\n",
        "\\begin{pmatrix}\n",
        "v_1 \\\\\n",
        "v_2 \\\\\n",
        "\\vdots \\\\\n",
        "v_n\n",
        "\\end{pmatrix}\n",
        "$$\n",
        "Then, the product $\\mathbf{w} = \\mathbf{A} \\mathbf{v}$ is:\n",
        "$$\n",
        "\\mathbf{w} =\n",
        "\\begin{pmatrix}\n",
        "w_1 \\\\\n",
        "w_2 \\\\\n",
        "\\vdots \\\\\n",
        "w_m\n",
        "\\end{pmatrix}\n",
        "=\n",
        "\\begin{pmatrix}\n",
        "a_{11}v_1 + a_{12}v_2 + \\dots + a_{1n}v_n \\\\\n",
        "a_{21}v_1 + a_{22}v_2 + \\dots + a_{2n}v_n \\\\\n",
        "\\vdots \\\\\n",
        "a_{m1}v_1 + a_{m2}v_2 + \\dots + a_{mn}v_n\n",
        "\\end{pmatrix}\n",
        "$$\n",
        "\n",
        "##### How to Multiply:\n",
        "1. Multiply each element of the row of the matrix by the corresponding element of the vector.\n",
        "2. Sum the products to get one element of the resulting vector.\n",
        "3. Repeat for each row of the matrix to get the complete resulting vector.\n",
        "\n",
        "##### Example:\n",
        "Let:\n",
        "$$\n",
        "\\mathbf{A} =\n",
        "\\begin{pmatrix}\n",
        "1 & 2 & 3 \\\\\n",
        "4 & 5 & 6\n",
        "\\end{pmatrix}, \\quad \\mathbf{v} =\n",
        "\\begin{pmatrix}\n",
        "7 \\\\\n",
        "8 \\\\\n",
        "9\n",
        "\\end{pmatrix}\n",
        "$$\n",
        "\n",
        "Then, the product is:\n",
        "$$\n",
        "\\mathbf{w} =\n",
        "\\begin{pmatrix}\n",
        "1 \\times 7 + 2 \\times 8 + 3 \\times 9 \\\\\n",
        "4 \\times 7 + 5 \\times 8 + 6 \\times 9\n",
        "\\end{pmatrix} =\n",
        "\\begin{pmatrix}\n",
        "50 \\\\\n",
        "122\n",
        "\\end{pmatrix}\n",
        "$$\n"
      ],
      "metadata": {
        "id": "5gVwtvKcusFi"
      }
    },
    {
      "cell_type": "markdown",
      "source": [
        "####excercise 4.7\n",
        "\n",
        "Given the following matrix and vector:\n",
        "\n",
        "$$\n",
        "\\mathbf{A} =\n",
        "\\begin{pmatrix}\n",
        "3 & 4 \\\\\n",
        "1 & 2\n",
        "\\end{pmatrix}, \\quad \\mathbf{v} =\n",
        "\\begin{pmatrix}\n",
        "1 \\\\\n",
        "0\n",
        "\\end{pmatrix}\n",
        "$$\n",
        "\n",
        "Compute the product $\\mathbf{w} = \\mathbf{A} \\mathbf{v}$ and print the resulting vector.\n",
        "\n"
      ],
      "metadata": {
        "id": "1BfXURP5wcIo"
      }
    },
    {
      "cell_type": "code",
      "source": [
        "A = np.array([[3,4], [1,2]])\n",
        "v = np.array([1,0])\n",
        "\n",
        "w = np.dot(A,v)\n",
        "\n",
        "print(w)"
      ],
      "metadata": {
        "colab": {
          "base_uri": "https://localhost:8080/"
        },
        "id": "tu08g2Mhv9Qj",
        "outputId": "029e637b-79b6-4f10-b1d5-71e1612fae9d"
      },
      "execution_count": 8,
      "outputs": [
        {
          "output_type": "stream",
          "name": "stdout",
          "text": [
            "[3 1]\n"
          ]
        }
      ]
    },
    {
      "cell_type": "markdown",
      "source": [
        "####excercise 4.8\n",
        "\n",
        "#####Given the following vectors:\n",
        "\n",
        "#####$$\n",
        "\\mathbf{i} =\n",
        "\\begin{pmatrix}\n",
        "3 \\\\\n",
        "5\n",
        "\\end{pmatrix}, \\quad \\mathbf{j} =\n",
        "\\begin{pmatrix}\n",
        "0 \\\\\n",
        "4\n",
        "\\end{pmatrix}\n",
        "$$\n",
        "\n",
        "#####Compute the following:\n",
        "\n",
        "1. Create a matrix by transposing the vectors $\\mathbf{i}$ and $\\mathbf{j}$: $$\\mathbf{base} = \\begin{pmatrix} \\mathbf{i} & \\mathbf{j} \\end{pmatrix}^T$$\n",
        "\n",
        "2. Multiply the matrix $\\mathbf{base}$ by the vector $\\mathbf{v} = \\begin{pmatrix} 2 \\\\ 2 \\end{pmatrix}$.\n",
        "\n",
        "#####Write the resulting vector after multiplication.\n"
      ],
      "metadata": {
        "id": "4ykzPEdJxJbY"
      }
    },
    {
      "cell_type": "code",
      "source": [
        "i = np.array([3,5])\n",
        "j = np.array([0,4])\n",
        "\n",
        "base = np.array([i,j]).transpose()\n",
        "\n",
        "v = np.array([2,2])\n",
        "\n",
        "w = np.dot(base,v)\n",
        "\n",
        "print(w)"
      ],
      "metadata": {
        "colab": {
          "base_uri": "https://localhost:8080/"
        },
        "id": "9lG3nlqMwuB4",
        "outputId": "a93c7146-a966-4aee-ad41-5fffe1c442fb"
      },
      "execution_count": 9,
      "outputs": [
        {
          "output_type": "stream",
          "name": "stdout",
          "text": [
            "[ 6 18]\n"
          ]
        }
      ]
    },
    {
      "cell_type": "markdown",
      "source": [
        "###<a name='7'></a> *Matrix Multiplication*"
      ],
      "metadata": {
        "id": "5jQQYmmG5RMx"
      }
    },
    {
      "cell_type": "markdown",
      "source": [
        "#####Matrix multiplication is a fundamental operation in linear algebra. It involves multiplying two matrices to produce a third matrix. For matrix multiplication to be defined, the number of columns in the first matrix must equal the number of rows in the second matrix.\n",
        "\n",
        "Let the matrix $\\mathbf{A}$ be of size $m \\times n$ and the matrix $\\mathbf{B}$ be of size $n \\times p$. The result of multiplying these matrices, $\\mathbf{C} = \\mathbf{A} \\times \\mathbf{B}$, will be a new matrix of size $m \\times p$.\n",
        "\n",
        "##### General formula:\n",
        "\n",
        "For each element $c_{ij}$ of the resulting matrix $\\mathbf{C}$, we take the dot product of the $i$-th row of matrix $\\mathbf{A}$ with the $j$-th column of matrix $\\mathbf{B}$:\n",
        "\n",
        "$$\n",
        "c_{ij} = \\sum_{k=1}^{n} a_{ik} \\cdot b_{kj}\n",
        "$$\n",
        "\n",
        "Where:\n",
        "- $a_{ik}$ is the element of the $i$-th row and $k$-th column of $\\mathbf{A}$,\n",
        "- $b_{kj}$ is the element of the $k$-th row and $j$-th column of $\\mathbf{B}$,\n",
        "- $c_{ij}$ is the element of the resulting matrix $\\mathbf{C}$.\n",
        "\n",
        "##### Example:\n",
        "\n",
        "Given two matrices:\n",
        "\n",
        "$$\n",
        "\\mathbf{A} =\n",
        "\\begin{pmatrix}\n",
        "1 & 2 \\\\\n",
        "3 & 4\n",
        "\\end{pmatrix}, \\quad\n",
        "\\mathbf{B} =\n",
        "\\begin{pmatrix}\n",
        "5 & 6 \\\\\n",
        "7 & 8\n",
        "\\end{pmatrix}\n",
        "$$\n",
        "\n",
        "To find the product $\\mathbf{C} = \\mathbf{A} \\times \\mathbf{B}$, compute each element of the resulting matrix:\n",
        "\n",
        "- $c_{11} = (1 \\times 5) + (2 \\times 7) = 5 + 14 = 19$\n",
        "- $c_{12} = (1 \\times 6) + (2 \\times 8) = 6 + 16 = 22$\n",
        "- $c_{21} = (3 \\times 5) + (4 \\times 7) = 15 + 28 = 43$\n",
        "- $c_{22} = (3 \\times 6) + (4 \\times 8) = 18 + 32 = 50$\n",
        "\n",
        "Thus:\n",
        "\n",
        "$$\n",
        "\\mathbf{C} =\n",
        "\\begin{pmatrix}\n",
        "19 & 22 \\\\\n",
        "43 & 50\n",
        "\\end{pmatrix}\n",
        "$$\n",
        "\n",
        "##### Properties:\n",
        "- Matrix multiplication is **not commutative**: In general, $\\mathbf{A} \\times \\mathbf{B} \\neq \\mathbf{B} \\times \\mathbf{A}$.\n",
        "- Matrix multiplication is **associative**: $(\\mathbf{A} \\times \\mathbf{B}) \\times \\mathbf{C} = \\mathbf{A} \\times (\\mathbf{B} \\times \\mathbf{C})$.\n",
        "- Matrix multiplication is **distributive**: $\\mathbf{A} \\times (\\mathbf{B} + \\mathbf{C}) = \\mathbf{A} \\times \\mathbf{B} + \\mathbf{A} \\times \\mathbf{C}$.\n",
        "\n",
        "Matrix multiplication is widely used in many fields, including computer graphics, physics simulations, and machine learning.\n"
      ],
      "metadata": {
        "id": "9J8fTdbW5OQy"
      }
    },
    {
      "cell_type": "markdown",
      "source": [
        "####exercise 4.9\n",
        "\n",
        "##### Given the following matrices:\n",
        "\n",
        "$$\n",
        "A =\n",
        "\\begin{pmatrix}\n",
        "2 & 3 \\\\\n",
        "1 & 4\n",
        "\\end{pmatrix}, \\quad B =\n",
        "\\begin{pmatrix}\n",
        "5 & 6 \\\\\n",
        "7 & 8\n",
        "\\end{pmatrix}\n",
        "$$\n",
        "\n",
        "##### Compute the matrix multiplication of $A$ and $B$:\n",
        "\n",
        "$$\n",
        "C = A \\times B\n",
        "$$\n",
        "\n"
      ],
      "metadata": {
        "id": "D7oOlQVY6yQ5"
      }
    },
    {
      "cell_type": "code",
      "source": [
        "A = np.array([[2,3], [1,4]])\n",
        "B = np.array([[5,6], [7,8]])\n",
        "\n",
        "C = np.dot(A,B)\n",
        "\n",
        "print(C)"
      ],
      "metadata": {
        "colab": {
          "base_uri": "https://localhost:8080/"
        },
        "id": "JTtgvoRn7Jer",
        "outputId": "7ccb9406-e004-4a35-8e6c-a4bfd63f4f81"
      },
      "execution_count": 10,
      "outputs": [
        {
          "output_type": "stream",
          "name": "stdout",
          "text": [
            "[[31 36]\n",
            " [33 38]]\n"
          ]
        }
      ]
    },
    {
      "cell_type": "markdown",
      "source": [
        "###<a name='8'></a>*Determinants of Matrices*"
      ],
      "metadata": {
        "id": "SysP24xX9Ird"
      }
    },
    {
      "cell_type": "markdown",
      "source": [
        "#####The **determinant** of a matrix is a scalar value that is computed from the elements of a square matrix. It provides important properties about the matrix, such as whether the matrix is invertible (i.e., if it has an inverse) and how the matrix scales space.\n",
        "\n",
        "#####For a matrix $A$, the determinant is denoted as $det(A)$ or $|A|$.\n",
        "\n",
        "\n",
        "##### Key Properties of Determinants:\n",
        "\n",
        "1. **Determinant of a $1 \\times 1$ matrix**:\n",
        "   For a matrix $A = \\begin{pmatrix} a \\end{pmatrix}$, the determinant is simply the value of $a$:\n",
        "   $$ det(A) = a $$\n",
        "\n",
        "2. **Determinant of a $2 \\times 2$ matrix**:\n",
        "   For a matrix $A = \\begin{pmatrix} a & b \\\\ c & d \\end{pmatrix}$, the determinant is calculated as:\n",
        "   $$ det(A) = ad - bc $$\n",
        "\n",
        "3. **Determinant of a $3 \\times 3$ matrix**:\n",
        "   For a matrix $A = \\begin{pmatrix} a & b & c \\\\ d & e & f \\\\ g & h & i \\end{pmatrix}$, the determinant is calculated as:\n",
        "   $$ det(A) = a(ei - fh) - b(di - fg) + c(dh - eg) $$\n"
      ],
      "metadata": {
        "id": "JpdkRBo_9HdR"
      }
    },
    {
      "cell_type": "markdown",
      "source": [],
      "metadata": {
        "id": "qqvE6Hej-Bbu"
      }
    },
    {
      "cell_type": "markdown",
      "source": [
        "#### excercise 4.10\n",
        "\n",
        "##### You are given the following matrix:\n",
        "\n",
        "$$\n",
        "A =\n",
        "\\begin{pmatrix}\n",
        "9 & 0 \\\\\n",
        "3 & 6\n",
        "\\end{pmatrix}\n",
        "$$\n",
        "\n",
        "##### Calculate the determinant of matrix $A$ using a suitable method and print the result.\n"
      ],
      "metadata": {
        "id": "TI9Asom0-2M0"
      }
    },
    {
      "cell_type": "code",
      "source": [
        "A = np.array([[9,0], [3,6]])\n",
        "\n",
        "det_A = np.linalg.det(A)\n",
        "\n",
        "print(f'{det_A:.2f}')"
      ],
      "metadata": {
        "colab": {
          "base_uri": "https://localhost:8080/"
        },
        "id": "qIEbJJK8-CWg",
        "outputId": "1c4b48f1-f961-4456-d61e-cd2ba471dfac"
      },
      "execution_count": 11,
      "outputs": [
        {
          "output_type": "stream",
          "name": "stdout",
          "text": [
            "54.00\n"
          ]
        }
      ]
    },
    {
      "cell_type": "markdown",
      "source": [
        "#### excercise 4.11\n",
        "\n",
        "##### You are given the following matrix:\n",
        "\n",
        "$$\n",
        "A =\n",
        "\\begin{pmatrix}\n",
        "2 & 5 & 1 \\\\\n",
        "8 & 4 & 0 \\\\\n",
        "3 & 9 & 9\n",
        "\\end{pmatrix}\n",
        "$$\n",
        "\n",
        "##### Calculate the determinant of matrix $A$ using a suitable method and print the result.\n"
      ],
      "metadata": {
        "id": "GAnRi390-6j5"
      }
    },
    {
      "cell_type": "code",
      "source": [
        "A = np.array([[2,5,1], [8,4,0], [3,9,9]])\n",
        "\n",
        "det_A = np.linalg.det(A)\n",
        "\n",
        "print(f'{det_A:.2f}')"
      ],
      "metadata": {
        "colab": {
          "base_uri": "https://localhost:8080/"
        },
        "id": "HZ3f6sqZ-SzH",
        "outputId": "e1abef37-6c38-4508-f3da-bdafcad0b4b2"
      },
      "execution_count": null,
      "outputs": [
        {
          "output_type": "stream",
          "name": "stdout",
          "text": [
            "-228.00\n"
          ]
        }
      ]
    },
    {
      "cell_type": "markdown",
      "source": [
        "###<a name='9'></a>*Special Types of Matrices*"
      ],
      "metadata": {
        "id": "auVmF1Q-B2tU"
      }
    },
    {
      "cell_type": "markdown",
      "source": [
        "#### 1. **Square Matrix**\n",
        "A matrix with the same number of rows and columns. For example:\n",
        "$$\n",
        "A =\n",
        "\\begin{pmatrix}\n",
        "1 & 2 \\\\\n",
        "3 & 4\n",
        "\\end{pmatrix}\n",
        "$$\n",
        "This is a 2x2 square matrix.\n",
        "\n",
        "#### 2. **Identity Matrix**\n",
        "A square matrix where all the diagonal elements are 1 and all other elements are 0. For example:\n",
        "$$\n",
        "I =\n",
        "\\begin{pmatrix}\n",
        "1 & 0 \\\\\n",
        "0 & 1\n",
        "\\end{pmatrix}\n",
        "$$\n",
        "This is a 2x2 identity matrix.\n",
        "\n",
        "#### 3. **Inverse Matrix**\n",
        "A square matrix that, when multiplied by the original matrix, results in the identity matrix. For example:\n",
        "If matrix $ A $ is:\n",
        "$$\n",
        "A =\n",
        "\\begin{pmatrix}\n",
        "4 & 7 \\\\\n",
        "2 & 6\n",
        "\\end{pmatrix}\n",
        "$$\n",
        "Then its inverse $ A^{-1} $ is:\n",
        "$$\n",
        "A^{-1} =\n",
        "\\begin{pmatrix}\n",
        "0.6 & -0.7 \\\\\n",
        "-0.2 & 0.4\n",
        "\\end{pmatrix}\n",
        "$$\n",
        "\n",
        "#### 4. **Diagonal Matrix**\n",
        "A matrix where all off-diagonal elements are zero, and only the diagonal elements can be non-zero. For example:\n",
        "$$\n",
        "D =\n",
        "\\begin{pmatrix}\n",
        "1 & 0 & 0 \\\\\n",
        "0 & 5 & 0 \\\\\n",
        "0 & 0 & 9\n",
        "\\end{pmatrix}\n",
        "$$\n",
        "This is a 3x3 diagonal matrix.\n",
        "\n",
        "#### 5. **Triangular Matrix**\n",
        "A matrix where all elements above or below the main diagonal are zero. There are two types:\n",
        "- **Upper Triangular Matrix** (all elements below the diagonal are 0):\n",
        "$$\n",
        "U =\n",
        "\\begin{pmatrix}\n",
        "1 & 2 & 3 \\\\\n",
        "0 & 4 & 5 \\\\\n",
        "0 & 0 & 6\n",
        "\\end{pmatrix}\n",
        "$$\n",
        "- **Lower Triangular Matrix** (all elements above the diagonal are 0):\n",
        "$$\n",
        "L =\n",
        "\\begin{pmatrix}\n",
        "1 & 0 & 0 \\\\\n",
        "4 & 5 & 0 \\\\\n",
        "7 & 8 & 9\n",
        "\\end{pmatrix}\n",
        "$$\n",
        "\n",
        "#### 6. **Sparse Matrix**\n",
        "A matrix in which most of the elements are zero. For example:\n",
        "$$\n",
        "S =\n",
        "\\begin{pmatrix}\n",
        "0 & 0 & 0 \\\\\n",
        "0 & 5 & 0 \\\\\n",
        "0 & 0 & 0\n",
        "\\end{pmatrix}\n",
        "$$\n",
        "This is a sparse matrix with only one non-zero element.\n"
      ],
      "metadata": {
        "id": "VUGfKgg4B1EO"
      }
    },
    {
      "cell_type": "markdown",
      "source": [
        "###<a name='10'></a>*Solving Systems of Linear Equations Using Matrices*"
      ],
      "metadata": {
        "id": "JERcRjvQfixy"
      }
    },
    {
      "cell_type": "markdown",
      "source": [
        "#####Matrix methods are a powerful way to solve systems of linear equations. A system of equations can be represented in matrix form and solved efficiently using various techniques.\n",
        "\n",
        "##### **Matrix Representation of a System**\n",
        "A system of equations:\n",
        "$$\n",
        "\\begin{aligned}\n",
        "2x + 3y &= 8 \\\\\n",
        "x - y &= 2\n",
        "\\end{aligned}\n",
        "$$\n",
        "Can be written in matrix form as:\n",
        "$$\n",
        "A \\mathbf{x} = \\mathbf{b}\n",
        "$$\n",
        "Where:\n",
        "- $A$ is the coefficient matrix:\n",
        "  $$\n",
        "  A =\n",
        "  \\begin{pmatrix}\n",
        "  2 & 3 \\\\\n",
        "  1 & -1\n",
        "  \\end{pmatrix}\n",
        "  $$\n",
        "- $\\mathbf{x}$ is the vector of variables:\n",
        "  $$\n",
        "  \\mathbf{x} =\n",
        "  \\begin{pmatrix}\n",
        "  x \\\\\n",
        "  y\n",
        "  \\end{pmatrix}\n",
        "  $$\n",
        "- $\\mathbf{b}$ is the vector of constants:\n",
        "  $$\n",
        "  \\mathbf{b} =\n",
        "  \\begin{pmatrix}\n",
        "  8 \\\\\n",
        "  2\n",
        "  \\end{pmatrix}\n",
        "  $$\n",
        "\n",
        "##### **Steps to Solve**\n",
        "1. **Find the Inverse of the Coefficient Matrix (if it exists):**\n",
        "   If $A$ is invertible, the solution can be found as:\n",
        "   $$\n",
        "   \\mathbf{x} = A^{-1} \\mathbf{b}\n",
        "   $$\n",
        "   \n",
        "2. **Use Gaussian Elimination:**\n",
        "   Transform the augmented matrix $[A | \\mathbf{b}]$ into row echelon form and solve step by step.\n",
        "\n",
        "3. **Use Numerical Solvers (e.g., NumPy in Python):**\n",
        "   Computing the solution using libraries like NumPy for efficiency and precision.\n",
        "\n",
        "##### **Example**\n",
        "Solve the following system of equations:\n",
        "$$\n",
        "3x + 4y = 10 \\\\\n",
        "2x - y = 5\n",
        "$$\n",
        "\n",
        "**Matrix Representation:**\n",
        "$$\n",
        "A =\n",
        "\\begin{pmatrix}\n",
        "3 & 4 \\\\\n",
        "2 & -1\n",
        "\\end{pmatrix}, \\quad\n",
        "\\mathbf{b} =\n",
        "\\begin{pmatrix}\n",
        "10 \\\\\n",
        "5\n",
        "\\end{pmatrix}\n",
        "$$\n",
        "\n",
        "Using the formula $\\mathbf{x} = A^{-1} \\mathbf{b}$, compute the solution. The solution is:\n",
        "$$\n",
        "\\mathbf{x} =\n",
        "\\begin{pmatrix}\n",
        "2 \\\\\n",
        "1\n",
        "\\end{pmatrix}\n",
        "$$\n",
        "\n"
      ],
      "metadata": {
        "id": "qnImDdOVfbP6"
      }
    },
    {
      "cell_type": "markdown",
      "source": [
        "#### excercise 4.12\n",
        "\n",
        "##### Solve the following system of linear equations using matrix methods:\n",
        "\n",
        "$$\n",
        "3x + 4y - z = 10 \\\\\n",
        "2x - y + 5z = 8 \\\\\n",
        "x + 3y + 2z = 7\n",
        "$$\n",
        "\n",
        "1. Write the system in matrix form $A \\mathbf{x} = \\mathbf{b}$, where:\n",
        "\n",
        "   $$\n",
        "   A =\n",
        "   \\begin{pmatrix}\n",
        "   3 & 4 & -1 \\\\\n",
        "   2 & -1 & 5 \\\\\n",
        "   1 & 3 & 2\n",
        "   \\end{pmatrix}, \\quad\n",
        "   \\mathbf{b} =\n",
        "   \\begin{pmatrix}\n",
        "   10 \\\\\n",
        "   8 \\\\\n",
        "   7\n",
        "   \\end{pmatrix}\n",
        "   $$\n",
        "\n",
        "2. Use matrix operations to find the solution vector $\\mathbf{x} = \\begin{pmatrix} x \\\\ y \\\\ z \\end{pmatrix}$.\n",
        "\n",
        "##### Provide the values of $x$, $y$, and $z$ rounded to two decimal places.\n"
      ],
      "metadata": {
        "id": "VtNMHjIFhCbV"
      }
    },
    {
      "cell_type": "code",
      "source": [
        "A = np.array([[3,4,-1], [2,-1,5], [1,3,2]])\n",
        "\n",
        "B = np.array([10,8,7])\n",
        "\n",
        "x = np.linalg.solve(A,B)\n",
        "\n",
        "print(f\"Solution: x = {x[0]:.2f}, y = {x[1]:.2f}, z = {x[2]:.2f}\")\n",
        "\n"
      ],
      "metadata": {
        "colab": {
          "base_uri": "https://localhost:8080/"
        },
        "id": "OyrrTXd2f-Pz",
        "outputId": "8b2328b1-6728-4a9a-8dba-20ea1ad80e10"
      },
      "execution_count": 13,
      "outputs": [
        {
          "output_type": "stream",
          "name": "stdout",
          "text": [
            "Solution: x = 2.31, y = 0.98, z = 0.87\n"
          ]
        }
      ]
    },
    {
      "cell_type": "markdown",
      "source": [
        "###<a name='11'></a>*Eigenvectors and Eigenvalues*"
      ],
      "metadata": {
        "id": "al65pvKMili_"
      }
    },
    {
      "cell_type": "markdown",
      "source": [
        "#####**Eigenvectors** and **eigenvalues** are fundamental concepts in linear algebra that arise in the study of matrices. They are especially important in areas like data analysis, physics, engineering, and machine learning.\n",
        "\n",
        "##### Key Concepts:\n",
        "\n",
        "1. **Eigenvectors**:\n",
        "   - A non-zero vector $v$ is called an eigenvector of a square matrix $A$ if multiplying $A$ by $v$ results in a scaled version of $v$.\n",
        "   - Mathematically:\n",
        "     $$\n",
        "     A v = \\lambda v\n",
        "     $$\n",
        "     where:\n",
        "     - $A$ is the matrix,\n",
        "     - $v$ is the eigenvector,\n",
        "     - $\\lambda$ is the eigenvalue.\n",
        "\n",
        "2. **Eigenvalues**:\n",
        "   - The scalar $\\lambda$ associated with an eigenvector is called the eigenvalue. It represents the factor by which the eigenvector is scaled.\n",
        "\n",
        "3. **Characteristic Equation**:\n",
        "   - To find eigenvalues, solve the determinant equation:\n",
        "     $$\n",
        "     \\text{det}(A - \\lambda I) = 0\n",
        "     $$\n",
        "     where $I$ is the identity matrix.\n",
        "\n",
        "4. **Properties**:\n",
        "   - Not every matrix has eigenvectors and eigenvalues.\n",
        "   - Eigenvalues can be real or complex numbers.\n",
        "   - The number of eigenvalues of a matrix corresponds to its size (including repeated values).\n",
        "\n",
        "##### Example:\n",
        "\n",
        "Consider the matrix:\n",
        "$$\n",
        "A =\n",
        "\\begin{pmatrix}\n",
        "4 & 2 \\\\\n",
        "1 & 3\n",
        "\\end{pmatrix}\n",
        "$$\n",
        "\n",
        "1. **Find the eigenvalues**:\n",
        "   Solve the characteristic equation:\n",
        "   $$\n",
        "   \\text{det}(A - \\lambda I) = \\text{det}\n",
        "   \\begin{pmatrix}\n",
        "   4 - \\lambda & 2 \\\\\n",
        "   1 & 3 - \\lambda\n",
        "   \\end{pmatrix}\n",
        "   = 0\n",
        "   $$\n",
        "\n",
        "   Simplify:\n",
        "   $$\n",
        "   (4 - \\lambda)(3 - \\lambda) - 2(1) = 0\n",
        "   $$\n",
        "   $$\n",
        "   \\lambda^2 - 7\\lambda + 10 = 0\n",
        "   $$\n",
        "   $$\n",
        "   \\lambda = 5, \\lambda = 2\n",
        "   $$\n",
        "\n",
        "2. **Find the eigenvectors**:\n",
        "For each eigenvalue $ \\lambda $, solve $ (A - \\lambda I)v = 0 $.\n",
        "\n",
        "- For $ \\lambda = 5 $:\n",
        "  $$\n",
        "  \\begin{pmatrix}\n",
        "  -1 & 2 \\\\\n",
        "  1 & -2\n",
        "  \\end{pmatrix}\n",
        "  v = 0\n",
        "  $$\n",
        "  Eigenvector:\n",
        "  $$\n",
        "  v =\n",
        "  \\begin{pmatrix}\n",
        "  2 \\\\\n",
        "  1\n",
        "  \\end{pmatrix}\n",
        "  $$\n",
        "\n",
        "- For $ \\lambda = 2 $:\n",
        "  $$\n",
        "  \\begin{pmatrix}\n",
        "  2 & 2 \\\\\n",
        "  1 & 1\n",
        "  \\end{pmatrix}\n",
        "  v = 0\n",
        "  $$\n",
        "  Eigenvector:\n",
        "  $$\n",
        "  v =\n",
        "  \\begin{pmatrix}\n",
        "  -1 \\\\\n",
        "  1\n",
        "  \\end{pmatrix}\n",
        "  $$"
      ],
      "metadata": {
        "id": "h8gft2CQiopF"
      }
    },
    {
      "cell_type": "markdown",
      "source": [
        "#### excercise 4.13\n",
        "\n",
        "##### Given the following matrix:\n",
        "\n",
        "$$\n",
        "A =\n",
        "\\begin{pmatrix}\n",
        "4 & 2 \\\\\n",
        "1 & 3\n",
        "\\end{pmatrix}\n",
        "$$\n",
        "\n",
        "##### Perform the following tasks:\n",
        "\n",
        "1. Calculate the eigenvalues of the matrix $A$.\n",
        "2. Determine the eigenvectors corresponding to the eigenvalues.\n",
        "\n"
      ],
      "metadata": {
        "id": "bVXmZ0DUk9Vz"
      }
    },
    {
      "cell_type": "code",
      "source": [
        "A = np.array([[4,2], [1,3]])\n",
        "\n",
        "eigenvalues, eigenvectors = np.linalg.eig(A)\n",
        "\n",
        "print(\"Eigenvalues:\", eigenvalues)\n",
        "print(\"Eigenvectors:\")\n",
        "print(eigenvectors)\n"
      ],
      "metadata": {
        "id": "ipIfPybckqWL",
        "outputId": "272826db-2f96-4bd0-ffc8-fb04bc49775b",
        "colab": {
          "base_uri": "https://localhost:8080/"
        }
      },
      "execution_count": null,
      "outputs": [
        {
          "output_type": "stream",
          "name": "stdout",
          "text": [
            "Eigenvalues: [5. 2.]\n",
            "Eigenvectors:\n",
            "[[ 0.89442719 -0.70710678]\n",
            " [ 0.4472136   0.70710678]]\n"
          ]
        }
      ]
    }
  ]
}